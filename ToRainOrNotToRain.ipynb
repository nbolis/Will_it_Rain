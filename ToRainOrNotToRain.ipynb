{
 "cells": [
  {
   "cell_type": "markdown",
   "metadata": {},
   "source": [
    "# Will it Rain?"
   ]
  },
  {
   "cell_type": "markdown",
   "metadata": {},
   "source": [
    "Data sourced from : https://www.kaggle.com/jsphyg/weather-dataset-rattle-package"
   ]
  },
  {
   "cell_type": "markdown",
   "metadata": {},
   "source": [
    "## Binary classification implemented with logistic regression which uses meteorological data to predict wheather it will rain "
   ]
  },
  {
   "cell_type": "code",
   "execution_count": 83,
   "metadata": {},
   "outputs": [],
   "source": [
    "import numpy as np\n",
    "import pandas as pd\n",
    "import matplotlib.pyplot as plt\n",
    "import scipy.optimize as opt  \n",
    "import seaborn as sns"
   ]
  },
  {
   "cell_type": "markdown",
   "metadata": {},
   "source": [
    "### Importing data and converting 'yes' it will rain to 1 and 'no' it will not rain to 0"
   ]
  },
  {
   "cell_type": "code",
   "execution_count": 620,
   "metadata": {},
   "outputs": [],
   "source": [
    "data = pd.read_csv('weatherAUS.csv')\n",
    "data.loc[data.RainTomorrow == 'No', 'RainTomorrow'] = 0\n",
    "data.loc[data.RainTomorrow == 'Yes', 'RainTomorrow'] = 1\n",
    "data.loc[data.RainToday == 'No', 'RainToday'] = 0\n",
    "data.loc[data.RainToday == 'Yes', 'RainToday'] = 1"
   ]
  },
  {
   "cell_type": "code",
   "execution_count": 561,
   "metadata": {},
   "outputs": [
    {
     "data": {
      "text/html": [
       "<div>\n",
       "<style scoped>\n",
       "    .dataframe tbody tr th:only-of-type {\n",
       "        vertical-align: middle;\n",
       "    }\n",
       "\n",
       "    .dataframe tbody tr th {\n",
       "        vertical-align: top;\n",
       "    }\n",
       "\n",
       "    .dataframe thead th {\n",
       "        text-align: right;\n",
       "    }\n",
       "</style>\n",
       "<table border=\"1\" class=\"dataframe\">\n",
       "  <thead>\n",
       "    <tr style=\"text-align: right;\">\n",
       "      <th></th>\n",
       "      <th>Date</th>\n",
       "      <th>Location</th>\n",
       "      <th>MinTemp</th>\n",
       "      <th>MaxTemp</th>\n",
       "      <th>Rainfall</th>\n",
       "      <th>Evaporation</th>\n",
       "      <th>Sunshine</th>\n",
       "      <th>WindGustDir</th>\n",
       "      <th>WindGustSpeed</th>\n",
       "      <th>WindDir9am</th>\n",
       "      <th>...</th>\n",
       "      <th>Humidity3pm</th>\n",
       "      <th>Pressure9am</th>\n",
       "      <th>Pressure3pm</th>\n",
       "      <th>Cloud9am</th>\n",
       "      <th>Cloud3pm</th>\n",
       "      <th>Temp9am</th>\n",
       "      <th>Temp3pm</th>\n",
       "      <th>RainToday</th>\n",
       "      <th>RISK_MM</th>\n",
       "      <th>RainTomorrow</th>\n",
       "    </tr>\n",
       "  </thead>\n",
       "  <tbody>\n",
       "    <tr>\n",
       "      <td>0</td>\n",
       "      <td>2008-12-01</td>\n",
       "      <td>Albury</td>\n",
       "      <td>13.4</td>\n",
       "      <td>22.9</td>\n",
       "      <td>0.6</td>\n",
       "      <td>NaN</td>\n",
       "      <td>NaN</td>\n",
       "      <td>W</td>\n",
       "      <td>44.0</td>\n",
       "      <td>W</td>\n",
       "      <td>...</td>\n",
       "      <td>22.0</td>\n",
       "      <td>1007.7</td>\n",
       "      <td>1007.1</td>\n",
       "      <td>8.0</td>\n",
       "      <td>NaN</td>\n",
       "      <td>16.9</td>\n",
       "      <td>21.8</td>\n",
       "      <td>0</td>\n",
       "      <td>0.0</td>\n",
       "      <td>0</td>\n",
       "    </tr>\n",
       "    <tr>\n",
       "      <td>1</td>\n",
       "      <td>2008-12-02</td>\n",
       "      <td>Albury</td>\n",
       "      <td>7.4</td>\n",
       "      <td>25.1</td>\n",
       "      <td>0.0</td>\n",
       "      <td>NaN</td>\n",
       "      <td>NaN</td>\n",
       "      <td>WNW</td>\n",
       "      <td>44.0</td>\n",
       "      <td>NNW</td>\n",
       "      <td>...</td>\n",
       "      <td>25.0</td>\n",
       "      <td>1010.6</td>\n",
       "      <td>1007.8</td>\n",
       "      <td>NaN</td>\n",
       "      <td>NaN</td>\n",
       "      <td>17.2</td>\n",
       "      <td>24.3</td>\n",
       "      <td>0</td>\n",
       "      <td>0.0</td>\n",
       "      <td>0</td>\n",
       "    </tr>\n",
       "    <tr>\n",
       "      <td>2</td>\n",
       "      <td>2008-12-03</td>\n",
       "      <td>Albury</td>\n",
       "      <td>12.9</td>\n",
       "      <td>25.7</td>\n",
       "      <td>0.0</td>\n",
       "      <td>NaN</td>\n",
       "      <td>NaN</td>\n",
       "      <td>WSW</td>\n",
       "      <td>46.0</td>\n",
       "      <td>W</td>\n",
       "      <td>...</td>\n",
       "      <td>30.0</td>\n",
       "      <td>1007.6</td>\n",
       "      <td>1008.7</td>\n",
       "      <td>NaN</td>\n",
       "      <td>2.0</td>\n",
       "      <td>21.0</td>\n",
       "      <td>23.2</td>\n",
       "      <td>0</td>\n",
       "      <td>0.0</td>\n",
       "      <td>0</td>\n",
       "    </tr>\n",
       "    <tr>\n",
       "      <td>3</td>\n",
       "      <td>2008-12-04</td>\n",
       "      <td>Albury</td>\n",
       "      <td>9.2</td>\n",
       "      <td>28.0</td>\n",
       "      <td>0.0</td>\n",
       "      <td>NaN</td>\n",
       "      <td>NaN</td>\n",
       "      <td>NE</td>\n",
       "      <td>24.0</td>\n",
       "      <td>SE</td>\n",
       "      <td>...</td>\n",
       "      <td>16.0</td>\n",
       "      <td>1017.6</td>\n",
       "      <td>1012.8</td>\n",
       "      <td>NaN</td>\n",
       "      <td>NaN</td>\n",
       "      <td>18.1</td>\n",
       "      <td>26.5</td>\n",
       "      <td>0</td>\n",
       "      <td>1.0</td>\n",
       "      <td>0</td>\n",
       "    </tr>\n",
       "    <tr>\n",
       "      <td>4</td>\n",
       "      <td>2008-12-05</td>\n",
       "      <td>Albury</td>\n",
       "      <td>17.5</td>\n",
       "      <td>32.3</td>\n",
       "      <td>1.0</td>\n",
       "      <td>NaN</td>\n",
       "      <td>NaN</td>\n",
       "      <td>W</td>\n",
       "      <td>41.0</td>\n",
       "      <td>ENE</td>\n",
       "      <td>...</td>\n",
       "      <td>33.0</td>\n",
       "      <td>1010.8</td>\n",
       "      <td>1006.0</td>\n",
       "      <td>7.0</td>\n",
       "      <td>8.0</td>\n",
       "      <td>17.8</td>\n",
       "      <td>29.7</td>\n",
       "      <td>0</td>\n",
       "      <td>0.2</td>\n",
       "      <td>0</td>\n",
       "    </tr>\n",
       "  </tbody>\n",
       "</table>\n",
       "<p>5 rows × 24 columns</p>\n",
       "</div>"
      ],
      "text/plain": [
       "         Date Location  MinTemp  MaxTemp  Rainfall  Evaporation  Sunshine  \\\n",
       "0  2008-12-01   Albury     13.4     22.9       0.6          NaN       NaN   \n",
       "1  2008-12-02   Albury      7.4     25.1       0.0          NaN       NaN   \n",
       "2  2008-12-03   Albury     12.9     25.7       0.0          NaN       NaN   \n",
       "3  2008-12-04   Albury      9.2     28.0       0.0          NaN       NaN   \n",
       "4  2008-12-05   Albury     17.5     32.3       1.0          NaN       NaN   \n",
       "\n",
       "  WindGustDir  WindGustSpeed WindDir9am  ... Humidity3pm  Pressure9am  \\\n",
       "0           W           44.0          W  ...        22.0       1007.7   \n",
       "1         WNW           44.0        NNW  ...        25.0       1010.6   \n",
       "2         WSW           46.0          W  ...        30.0       1007.6   \n",
       "3          NE           24.0         SE  ...        16.0       1017.6   \n",
       "4           W           41.0        ENE  ...        33.0       1010.8   \n",
       "\n",
       "   Pressure3pm  Cloud9am  Cloud3pm  Temp9am  Temp3pm  RainToday  RISK_MM  \\\n",
       "0       1007.1       8.0       NaN     16.9     21.8          0      0.0   \n",
       "1       1007.8       NaN       NaN     17.2     24.3          0      0.0   \n",
       "2       1008.7       NaN       2.0     21.0     23.2          0      0.0   \n",
       "3       1012.8       NaN       NaN     18.1     26.5          0      1.0   \n",
       "4       1006.0       7.0       8.0     17.8     29.7          0      0.2   \n",
       "\n",
       "   RainTomorrow  \n",
       "0             0  \n",
       "1             0  \n",
       "2             0  \n",
       "3             0  \n",
       "4             0  \n",
       "\n",
       "[5 rows x 24 columns]"
      ]
     },
     "execution_count": 561,
     "metadata": {},
     "output_type": "execute_result"
    }
   ],
   "source": [
    "data.head()"
   ]
  },
  {
   "cell_type": "markdown",
   "metadata": {},
   "source": [
    "## Covariance - shows correlation between features"
   ]
  },
  {
   "cell_type": "code",
   "execution_count": 188,
   "metadata": {},
   "outputs": [
    {
     "data": {
      "text/plain": [
       "(140787,)"
      ]
     },
     "execution_count": 188,
     "metadata": {},
     "output_type": "execute_result"
    }
   ],
   "source": [
    "clean = data.RainToday.notna()\n",
    "(data.RainToday.loc[clean]).shape\n"
   ]
  },
  {
   "cell_type": "code",
   "execution_count": 104,
   "metadata": {},
   "outputs": [],
   "source": [
    "covariance = np.cov(data_nums.T)\n",
    "corr = np.corrcoef(data_nums.T)"
   ]
  },
  {
   "cell_type": "code",
   "execution_count": 107,
   "metadata": {},
   "outputs": [
    {
     "data": {
      "image/png": "[encoded data removed]",
      "text/plain": [
       "<Figure size 864x720 with 2 Axes>"
      ]
     },
     "metadata": {
      "needs_background": "light"
     },
     "output_type": "display_data"
    }
   ],
   "source": [
    "f, ax = plt.subplots(figsize=(12, 10))\n",
    "sns.heatmap(corr, annot=True, linewidths=.5, ax=ax)\n",
    "plt.xlim(0,18)\n",
    "plt.ylim(0,18)\n",
    "plt.show()"
   ]
  },
  {
   "cell_type": "markdown",
   "metadata": {},
   "source": [
    "### How many null (nan) values for each feature?"
   ]
  },
  {
   "cell_type": "code",
   "execution_count": 174,
   "metadata": {},
   "outputs": [
    {
     "data": {
      "text/plain": [
       "Date                 0\n",
       "Location             0\n",
       "MinTemp            637\n",
       "MaxTemp            322\n",
       "Rainfall          1406\n",
       "Evaporation      60843\n",
       "Sunshine         67816\n",
       "WindGustDir       9330\n",
       "WindGustSpeed     9270\n",
       "WindDir9am       10013\n",
       "WindDir3pm        3778\n",
       "WindSpeed9am      1348\n",
       "WindSpeed3pm      2630\n",
       "Humidity9am       1774\n",
       "Humidity3pm       3610\n",
       "Pressure9am      14014\n",
       "Pressure3pm      13981\n",
       "Cloud9am         53657\n",
       "Cloud3pm         57094\n",
       "Temp9am            904\n",
       "Temp3pm           2726\n",
       "RainToday         1406\n",
       "RISK_MM              0\n",
       "RainTomorrow         0\n",
       "dtype: int64"
      ]
     },
     "execution_count": 174,
     "metadata": {},
     "output_type": "execute_result"
    }
   ],
   "source": [
    "data.isna().sum()"
   ]
  },
  {
   "cell_type": "markdown",
   "metadata": {},
   "source": [
    "## Determining importance of features"
   ]
  },
  {
   "cell_type": "markdown",
   "metadata": {},
   "source": [
    "#### Since some features have many missing data points it will be helpful to determine the predictive power of each feature to see which ones are most relevant. "
   ]
  },
  {
   "cell_type": "markdown",
   "metadata": {},
   "source": [
    "### Drop all non numerical data and the predictions"
   ]
  },
  {
   "cell_type": "code",
   "execution_count": 372,
   "metadata": {},
   "outputs": [],
   "source": [
    "numdataX = data.drop(['Date', 'Location', 'WindGustDir', 'WindDir9am','WindDir3pm', 'RISK_MM','RainToday','RainTomorrow'], axis=1)\n",
    "numdataX_shape = numdataX.shape\n",
    "n_numX = numdataX_shape[1]"
   ]
  },
  {
   "cell_type": "markdown",
   "metadata": {},
   "source": [
    "### Calculate the integral (area under curve) of the ROC curve of the rain vs no rain data for each feature. The larger the area the more predictive the feature will be.  "
   ]
  },
  {
   "cell_type": "code",
   "execution_count": 599,
   "metadata": {},
   "outputs": [
    {
     "data": {
      "image/png": "[encoded data removed]",
      "text/plain": [
       "<Figure size 432x288 with 1 Axes>"
      ]
     },
     "metadata": {
      "needs_background": "light"
     },
     "output_type": "display_data"
    },
    {
     "data": {
      "image/png": "[encoded data removed]",
      "text/plain": [
       "<Figure size 432x288 with 1 Axes>"
      ]
     },
     "metadata": {
      "needs_background": "light"
     },
     "output_type": "display_data"
    },
    {
     "data": {
      "image/png": "[encoded data removed]",
      "text/plain": [
       "<Figure size 432x288 with 1 Axes>"
      ]
     },
     "metadata": {
      "needs_background": "light"
     },
     "output_type": "display_data"
    },
    {
     "data": {
      "image/png": "[encoded data removed]",
      "text/plain": [
       "<Figure size 432x288 with 1 Axes>"
      ]
     },
     "metadata": {
      "needs_background": "light"
     },
     "output_type": "display_data"
    },
    {
     "data": {
      "image/png": "[encoded data removed]",
      "text/plain": [
       "<Figure size 432x288 with 1 Axes>"
      ]
     },
     "metadata": {
      "needs_background": "light"
     },
     "output_type": "display_data"
    },
    {
     "data": {
      "image/png": "[encoded data removed]",
      "text/plain": [
       "<Figure size 432x288 with 1 Axes>"
      ]
     },
     "metadata": {
      "needs_background": "light"
     },
     "output_type": "display_data"
    },
    {
     "data": {
      "text/plain": [
       "('ROC area:', 0.5239611877877213, 'MinTemp')"
      ]
     },
     "execution_count": 599,
     "metadata": {},
     "output_type": "execute_result"
    }
   ],
   "source": [
    "mtot = data.shape[0]               # max number of data points\n",
    "\n",
    "raintomorrow = data.RainTomorrow   # our predictions\n",
    "\n",
    "\n",
    "def rain_norain_ROC(feature, key, show_plot = True):\n",
    "    feat_arr = np.asarray(feature)\n",
    "    feat_arr = feat_arr[np.logical_not(np.isnan(feat_arr))]    # cleans feature data of NaN\n",
    "    rain = np.asarray([feature[raintomorrow==1]])              # picks out featire data which corresponds to a RainTomorrow =1 \n",
    "    notrain = np.asarray([feature[raintomorrow==0]])           # picks out featire data which corresponds to a RainTomorrow =0\n",
    "\n",
    "    rain = rain[np.logical_not(np.isnan(rain))]                # cleans feature-rain data of NaN\n",
    "    notrain = notrain[np.logical_not(np.isnan(notrain))]       # cleans feature-notrain data of NaN\n",
    "   \n",
    "    x = np.linspace(feat_arr.min(), feat_arr.max(), 100)\n",
    "\n",
    "    y_rain, x_rain = np.histogram(rain , bins= x)              # histogram of feature data that corresponds to rain\n",
    "    y_rain = y_rain/np.sum(y_rain)                             # normalization \n",
    "    y_notrain, x_notrain = np.histogram(notrain , bins= x)     # histogram of feature data that corresponds to no rain\n",
    "    y_notrain = y_notrain/np.sum(y_notrain)                    # normalization \n",
    "   \n",
    "    \n",
    "    rain_sum = np.cumsum(y_rain)                               # cumulative sum of rain and not rain feature data\n",
    "    notrain_sum = np.cumsum(y_notrain)\n",
    "  \n",
    "\n",
    "    s = 1-rain_sum                                              # signal and background to calculate ROC curve\n",
    "    b = 1-notrain_sum\n",
    "    \n",
    "    area = np.sum(b)/len(b)                                    # area under ROC curve \n",
    "    \n",
    "    if area < 0.5:                                             # ordering \n",
    "        s = rain_sum\n",
    "        b = notrain_sum\n",
    "        area = np.sum(b)/len(b)\n",
    "    else: \n",
    "        s = 1-rain_sum\n",
    "        b = 1-notrain_sum\n",
    "        area = np.sum(b)/len(b)\n",
    "    \n",
    "    if show_plot == True:                         # histogram plot of feature data divided into rain vs no rain \n",
    "        title1 = str(key) + \" Data Rain vs No Rain\"\n",
    "        plt.title(title1)\n",
    "        plt.step(x_rain[1:], y_rain, label='Rain')\n",
    "        plt.step(x_notrain[1:], y_notrain, label='No Rain')\n",
    "        plt.ylim(bottom=0)\n",
    "        plt.legend()\n",
    "        plt.show()\n",
    "    \n",
    "        title2 = str(key)+ \" Data Rain vs. No Rain Cumulative Sum\"\n",
    "        plt.title(title2)\n",
    "        plt.plot(s, label='Rain')                 # plot of feature data cumulative sum divided into rain vs no rain\n",
    "        plt.plot(b, label='No Rain')\n",
    "        plt.legend()\n",
    "        plt.show()\n",
    "    \n",
    "        title3 =  str(key)+ \" Data Rain vs. No Rain ROC curve\"\n",
    "        plt.title(title3)         # plot of ROC curve \n",
    "        plt.plot(s, b)\n",
    "        plt.xlabel('rain')\n",
    "        plt.ylabel('no rain')\n",
    "        plt.show()\n",
    "    return 'ROC area:', area, key\n",
    "\n",
    "rain_norain_ROC(numdataX.WindSpeed9am, 'WindSpeed9am')\n",
    "rain_norain_ROC(numdataX.MinTemp, 'MinTemp')"
   ]
  },
  {
   "cell_type": "markdown",
   "metadata": {},
   "source": [
    "### Predictive power vs number of null entries\n",
    "#### Calculated the ROC area for each feauture and list it next to number of null entries in total data set. By looking at this the featues with highest predictive power can be chosen. "
   ]
  },
  {
   "cell_type": "code",
   "execution_count": 605,
   "metadata": {},
   "outputs": [
    {
     "data": {
      "text/html": [
       "<div>\n",
       "<style scoped>\n",
       "    .dataframe tbody tr th:only-of-type {\n",
       "        vertical-align: middle;\n",
       "    }\n",
       "\n",
       "    .dataframe tbody tr th {\n",
       "        vertical-align: top;\n",
       "    }\n",
       "\n",
       "    .dataframe thead th {\n",
       "        text-align: right;\n",
       "    }\n",
       "</style>\n",
       "<table border=\"1\" class=\"dataframe\">\n",
       "  <thead>\n",
       "    <tr style=\"text-align: right;\">\n",
       "      <th></th>\n",
       "      <th>Power</th>\n",
       "      <th>NaN</th>\n",
       "    </tr>\n",
       "  </thead>\n",
       "  <tbody>\n",
       "    <tr>\n",
       "      <td>Temp9am</td>\n",
       "      <td>0.507090</td>\n",
       "      <td>904</td>\n",
       "    </tr>\n",
       "    <tr>\n",
       "      <td>MinTemp</td>\n",
       "      <td>0.523961</td>\n",
       "      <td>637</td>\n",
       "    </tr>\n",
       "    <tr>\n",
       "      <td>Temp3pm</td>\n",
       "      <td>0.528592</td>\n",
       "      <td>2726</td>\n",
       "    </tr>\n",
       "    <tr>\n",
       "      <td>MaxTemp</td>\n",
       "      <td>0.536266</td>\n",
       "      <td>322</td>\n",
       "    </tr>\n",
       "    <tr>\n",
       "      <td>Humidity3pm</td>\n",
       "      <td>0.540302</td>\n",
       "      <td>3610</td>\n",
       "    </tr>\n",
       "    <tr>\n",
       "      <td>Cloud9am</td>\n",
       "      <td>0.563080</td>\n",
       "      <td>53657</td>\n",
       "    </tr>\n",
       "    <tr>\n",
       "      <td>Cloud3pm</td>\n",
       "      <td>0.564234</td>\n",
       "      <td>57094</td>\n",
       "    </tr>\n",
       "    <tr>\n",
       "      <td>Sunshine</td>\n",
       "      <td>0.584490</td>\n",
       "      <td>67816</td>\n",
       "    </tr>\n",
       "    <tr>\n",
       "      <td>Pressure3pm</td>\n",
       "      <td>0.619183</td>\n",
       "      <td>13981</td>\n",
       "    </tr>\n",
       "    <tr>\n",
       "      <td>Pressure9am</td>\n",
       "      <td>0.624711</td>\n",
       "      <td>14014</td>\n",
       "    </tr>\n",
       "    <tr>\n",
       "      <td>Humidity9am</td>\n",
       "      <td>0.658589</td>\n",
       "      <td>1774</td>\n",
       "    </tr>\n",
       "    <tr>\n",
       "      <td>WindGustSpeed</td>\n",
       "      <td>0.754886</td>\n",
       "      <td>9270</td>\n",
       "    </tr>\n",
       "    <tr>\n",
       "      <td>WindSpeed3pm</td>\n",
       "      <td>0.795405</td>\n",
       "      <td>2630</td>\n",
       "    </tr>\n",
       "    <tr>\n",
       "      <td>WindSpeed9am</td>\n",
       "      <td>0.900881</td>\n",
       "      <td>1348</td>\n",
       "    </tr>\n",
       "    <tr>\n",
       "      <td>Evaporation</td>\n",
       "      <td>0.965386</td>\n",
       "      <td>60843</td>\n",
       "    </tr>\n",
       "    <tr>\n",
       "      <td>Rainfall</td>\n",
       "      <td>0.997501</td>\n",
       "      <td>1406</td>\n",
       "    </tr>\n",
       "  </tbody>\n",
       "</table>\n",
       "</div>"
      ],
      "text/plain": [
       "                  Power    NaN\n",
       "Temp9am        0.507090    904\n",
       "MinTemp        0.523961    637\n",
       "Temp3pm        0.528592   2726\n",
       "MaxTemp        0.536266    322\n",
       "Humidity3pm    0.540302   3610\n",
       "Cloud9am       0.563080  53657\n",
       "Cloud3pm       0.564234  57094\n",
       "Sunshine       0.584490  67816\n",
       "Pressure3pm    0.619183  13981\n",
       "Pressure9am    0.624711  14014\n",
       "Humidity9am    0.658589   1774\n",
       "WindGustSpeed  0.754886   9270\n",
       "WindSpeed3pm   0.795405   2630\n",
       "WindSpeed9am   0.900881   1348\n",
       "Evaporation    0.965386  60843\n",
       "Rainfall       0.997501   1406"
      ]
     },
     "execution_count": 605,
     "metadata": {},
     "output_type": "execute_result"
    }
   ],
   "source": [
    "def allROC(dataset):\n",
    "    pred= pd.DataFrame()\n",
    "    for k,v in dataset.iteritems():\n",
    "        ROC = rain_norain_ROC(v, k, False)\n",
    "        numofnan = v.isna().sum()\n",
    "        df = pd.DataFrame({'Power': ROC[1], 'NaN': numofnan}, index= {k})\n",
    "        pred =pred.append(df)\n",
    "    return pred\n",
    "\n",
    "Power_vs_NaN = allROC(numdataX)\n",
    "Power_vs_NaN.sort_values(by=['Power'])      # sorted by lowest to highest predictive power "
   ]
  },
  {
   "cell_type": "markdown",
   "metadata": {},
   "source": [
    "## Data Set Cleaning "
   ]
  },
  {
   "cell_type": "markdown",
   "metadata": {},
   "source": [
    "### Only keeping numerical data"
   ]
  },
  {
   "cell_type": "code",
   "execution_count": 619,
   "metadata": {},
   "outputs": [],
   "source": [
    "numdata = data.drop(['Date', 'Location', 'WindGustDir', 'WindDir9am','WindDir3pm', 'RISK_MM', 'RainToday'], axis=1)"
   ]
  },
  {
   "cell_type": "markdown",
   "metadata": {},
   "source": [
    "### Eliminate data rows with NaN values, keeping all feautes"
   ]
  },
  {
   "cell_type": "code",
   "execution_count": 535,
   "metadata": {},
   "outputs": [
    {
     "data": {
      "text/plain": [
       "(58090, 17)"
      ]
     },
     "execution_count": 535,
     "metadata": {},
     "output_type": "execute_result"
    }
   ],
   "source": [
    "cleanall = numdata.notna()\n",
    "datacleanall = (numdata.loc[cleanall.prod(axis=1)==1])\n",
    "datacleanall.shape"
   ]
  },
  {
   "cell_type": "code",
   "execution_count": 536,
   "metadata": {},
   "outputs": [
    {
     "data": {
      "text/html": [
       "<div>\n",
       "<style scoped>\n",
       "    .dataframe tbody tr th:only-of-type {\n",
       "        vertical-align: middle;\n",
       "    }\n",
       "\n",
       "    .dataframe tbody tr th {\n",
       "        vertical-align: top;\n",
       "    }\n",
       "\n",
       "    .dataframe thead th {\n",
       "        text-align: right;\n",
       "    }\n",
       "</style>\n",
       "<table border=\"1\" class=\"dataframe\">\n",
       "  <thead>\n",
       "    <tr style=\"text-align: right;\">\n",
       "      <th></th>\n",
       "      <th>MinTemp</th>\n",
       "      <th>MaxTemp</th>\n",
       "      <th>Rainfall</th>\n",
       "      <th>Evaporation</th>\n",
       "      <th>Sunshine</th>\n",
       "      <th>WindGustSpeed</th>\n",
       "      <th>WindSpeed9am</th>\n",
       "      <th>WindSpeed3pm</th>\n",
       "      <th>Humidity9am</th>\n",
       "      <th>Humidity3pm</th>\n",
       "      <th>Pressure9am</th>\n",
       "      <th>Pressure3pm</th>\n",
       "      <th>Cloud9am</th>\n",
       "      <th>Cloud3pm</th>\n",
       "      <th>Temp9am</th>\n",
       "      <th>Temp3pm</th>\n",
       "      <th>RainTomorrow</th>\n",
       "    </tr>\n",
       "  </thead>\n",
       "  <tbody>\n",
       "    <tr>\n",
       "      <td>5939</td>\n",
       "      <td>17.9</td>\n",
       "      <td>35.2</td>\n",
       "      <td>0.0</td>\n",
       "      <td>12.0</td>\n",
       "      <td>12.3</td>\n",
       "      <td>48.0</td>\n",
       "      <td>6.0</td>\n",
       "      <td>20.0</td>\n",
       "      <td>20.0</td>\n",
       "      <td>13.0</td>\n",
       "      <td>1006.3</td>\n",
       "      <td>1004.4</td>\n",
       "      <td>2.0</td>\n",
       "      <td>5.0</td>\n",
       "      <td>26.6</td>\n",
       "      <td>33.4</td>\n",
       "      <td>0</td>\n",
       "    </tr>\n",
       "    <tr>\n",
       "      <td>5940</td>\n",
       "      <td>18.4</td>\n",
       "      <td>28.9</td>\n",
       "      <td>0.0</td>\n",
       "      <td>14.8</td>\n",
       "      <td>13.0</td>\n",
       "      <td>37.0</td>\n",
       "      <td>19.0</td>\n",
       "      <td>19.0</td>\n",
       "      <td>30.0</td>\n",
       "      <td>8.0</td>\n",
       "      <td>1012.9</td>\n",
       "      <td>1012.1</td>\n",
       "      <td>1.0</td>\n",
       "      <td>1.0</td>\n",
       "      <td>20.3</td>\n",
       "      <td>27.0</td>\n",
       "      <td>0</td>\n",
       "    </tr>\n",
       "    <tr>\n",
       "      <td>5942</td>\n",
       "      <td>19.4</td>\n",
       "      <td>37.6</td>\n",
       "      <td>0.0</td>\n",
       "      <td>10.8</td>\n",
       "      <td>10.6</td>\n",
       "      <td>46.0</td>\n",
       "      <td>30.0</td>\n",
       "      <td>15.0</td>\n",
       "      <td>42.0</td>\n",
       "      <td>22.0</td>\n",
       "      <td>1012.3</td>\n",
       "      <td>1009.2</td>\n",
       "      <td>1.0</td>\n",
       "      <td>6.0</td>\n",
       "      <td>28.7</td>\n",
       "      <td>34.9</td>\n",
       "      <td>0</td>\n",
       "    </tr>\n",
       "    <tr>\n",
       "      <td>5943</td>\n",
       "      <td>21.9</td>\n",
       "      <td>38.4</td>\n",
       "      <td>0.0</td>\n",
       "      <td>11.4</td>\n",
       "      <td>12.2</td>\n",
       "      <td>31.0</td>\n",
       "      <td>6.0</td>\n",
       "      <td>6.0</td>\n",
       "      <td>37.0</td>\n",
       "      <td>22.0</td>\n",
       "      <td>1012.7</td>\n",
       "      <td>1009.1</td>\n",
       "      <td>1.0</td>\n",
       "      <td>5.0</td>\n",
       "      <td>29.1</td>\n",
       "      <td>35.6</td>\n",
       "      <td>0</td>\n",
       "    </tr>\n",
       "    <tr>\n",
       "      <td>5944</td>\n",
       "      <td>24.2</td>\n",
       "      <td>41.0</td>\n",
       "      <td>0.0</td>\n",
       "      <td>11.2</td>\n",
       "      <td>8.4</td>\n",
       "      <td>35.0</td>\n",
       "      <td>17.0</td>\n",
       "      <td>13.0</td>\n",
       "      <td>19.0</td>\n",
       "      <td>15.0</td>\n",
       "      <td>1010.7</td>\n",
       "      <td>1007.4</td>\n",
       "      <td>1.0</td>\n",
       "      <td>6.0</td>\n",
       "      <td>33.6</td>\n",
       "      <td>37.6</td>\n",
       "      <td>0</td>\n",
       "    </tr>\n",
       "    <tr>\n",
       "      <td>...</td>\n",
       "      <td>...</td>\n",
       "      <td>...</td>\n",
       "      <td>...</td>\n",
       "      <td>...</td>\n",
       "      <td>...</td>\n",
       "      <td>...</td>\n",
       "      <td>...</td>\n",
       "      <td>...</td>\n",
       "      <td>...</td>\n",
       "      <td>...</td>\n",
       "      <td>...</td>\n",
       "      <td>...</td>\n",
       "      <td>...</td>\n",
       "      <td>...</td>\n",
       "      <td>...</td>\n",
       "      <td>...</td>\n",
       "      <td>...</td>\n",
       "    </tr>\n",
       "    <tr>\n",
       "      <td>139108</td>\n",
       "      <td>19.3</td>\n",
       "      <td>33.4</td>\n",
       "      <td>0.0</td>\n",
       "      <td>6.0</td>\n",
       "      <td>11.0</td>\n",
       "      <td>35.0</td>\n",
       "      <td>9.0</td>\n",
       "      <td>20.0</td>\n",
       "      <td>63.0</td>\n",
       "      <td>32.0</td>\n",
       "      <td>1013.9</td>\n",
       "      <td>1010.5</td>\n",
       "      <td>0.0</td>\n",
       "      <td>1.0</td>\n",
       "      <td>24.5</td>\n",
       "      <td>32.3</td>\n",
       "      <td>0</td>\n",
       "    </tr>\n",
       "    <tr>\n",
       "      <td>139109</td>\n",
       "      <td>21.2</td>\n",
       "      <td>32.6</td>\n",
       "      <td>0.0</td>\n",
       "      <td>7.6</td>\n",
       "      <td>8.6</td>\n",
       "      <td>37.0</td>\n",
       "      <td>13.0</td>\n",
       "      <td>11.0</td>\n",
       "      <td>56.0</td>\n",
       "      <td>28.0</td>\n",
       "      <td>1014.6</td>\n",
       "      <td>1011.2</td>\n",
       "      <td>7.0</td>\n",
       "      <td>0.0</td>\n",
       "      <td>24.8</td>\n",
       "      <td>32.0</td>\n",
       "      <td>0</td>\n",
       "    </tr>\n",
       "    <tr>\n",
       "      <td>139110</td>\n",
       "      <td>20.7</td>\n",
       "      <td>32.8</td>\n",
       "      <td>0.0</td>\n",
       "      <td>5.6</td>\n",
       "      <td>11.0</td>\n",
       "      <td>33.0</td>\n",
       "      <td>17.0</td>\n",
       "      <td>11.0</td>\n",
       "      <td>46.0</td>\n",
       "      <td>23.0</td>\n",
       "      <td>1015.3</td>\n",
       "      <td>1011.8</td>\n",
       "      <td>0.0</td>\n",
       "      <td>0.0</td>\n",
       "      <td>24.8</td>\n",
       "      <td>32.1</td>\n",
       "      <td>0</td>\n",
       "    </tr>\n",
       "    <tr>\n",
       "      <td>139111</td>\n",
       "      <td>19.5</td>\n",
       "      <td>31.8</td>\n",
       "      <td>0.0</td>\n",
       "      <td>6.2</td>\n",
       "      <td>10.6</td>\n",
       "      <td>26.0</td>\n",
       "      <td>9.0</td>\n",
       "      <td>17.0</td>\n",
       "      <td>62.0</td>\n",
       "      <td>58.0</td>\n",
       "      <td>1014.9</td>\n",
       "      <td>1010.7</td>\n",
       "      <td>1.0</td>\n",
       "      <td>1.0</td>\n",
       "      <td>24.8</td>\n",
       "      <td>29.2</td>\n",
       "      <td>0</td>\n",
       "    </tr>\n",
       "    <tr>\n",
       "      <td>139112</td>\n",
       "      <td>20.2</td>\n",
       "      <td>31.7</td>\n",
       "      <td>0.0</td>\n",
       "      <td>5.6</td>\n",
       "      <td>10.7</td>\n",
       "      <td>30.0</td>\n",
       "      <td>15.0</td>\n",
       "      <td>7.0</td>\n",
       "      <td>73.0</td>\n",
       "      <td>32.0</td>\n",
       "      <td>1013.9</td>\n",
       "      <td>1009.7</td>\n",
       "      <td>6.0</td>\n",
       "      <td>5.0</td>\n",
       "      <td>25.4</td>\n",
       "      <td>31.0</td>\n",
       "      <td>0</td>\n",
       "    </tr>\n",
       "  </tbody>\n",
       "</table>\n",
       "<p>58090 rows × 17 columns</p>\n",
       "</div>"
      ],
      "text/plain": [
       "        MinTemp  MaxTemp  Rainfall  Evaporation  Sunshine  WindGustSpeed  \\\n",
       "5939       17.9     35.2       0.0         12.0      12.3           48.0   \n",
       "5940       18.4     28.9       0.0         14.8      13.0           37.0   \n",
       "5942       19.4     37.6       0.0         10.8      10.6           46.0   \n",
       "5943       21.9     38.4       0.0         11.4      12.2           31.0   \n",
       "5944       24.2     41.0       0.0         11.2       8.4           35.0   \n",
       "...         ...      ...       ...          ...       ...            ...   \n",
       "139108     19.3     33.4       0.0          6.0      11.0           35.0   \n",
       "139109     21.2     32.6       0.0          7.6       8.6           37.0   \n",
       "139110     20.7     32.8       0.0          5.6      11.0           33.0   \n",
       "139111     19.5     31.8       0.0          6.2      10.6           26.0   \n",
       "139112     20.2     31.7       0.0          5.6      10.7           30.0   \n",
       "\n",
       "        WindSpeed9am  WindSpeed3pm  Humidity9am  Humidity3pm  Pressure9am  \\\n",
       "5939             6.0          20.0         20.0         13.0       1006.3   \n",
       "5940            19.0          19.0         30.0          8.0       1012.9   \n",
       "5942            30.0          15.0         42.0         22.0       1012.3   \n",
       "5943             6.0           6.0         37.0         22.0       1012.7   \n",
       "5944            17.0          13.0         19.0         15.0       1010.7   \n",
       "...              ...           ...          ...          ...          ...   \n",
       "139108           9.0          20.0         63.0         32.0       1013.9   \n",
       "139109          13.0          11.0         56.0         28.0       1014.6   \n",
       "139110          17.0          11.0         46.0         23.0       1015.3   \n",
       "139111           9.0          17.0         62.0         58.0       1014.9   \n",
       "139112          15.0           7.0         73.0         32.0       1013.9   \n",
       "\n",
       "        Pressure3pm  Cloud9am  Cloud3pm  Temp9am  Temp3pm  RainTomorrow  \n",
       "5939         1004.4       2.0       5.0     26.6     33.4             0  \n",
       "5940         1012.1       1.0       1.0     20.3     27.0             0  \n",
       "5942         1009.2       1.0       6.0     28.7     34.9             0  \n",
       "5943         1009.1       1.0       5.0     29.1     35.6             0  \n",
       "5944         1007.4       1.0       6.0     33.6     37.6             0  \n",
       "...             ...       ...       ...      ...      ...           ...  \n",
       "139108       1010.5       0.0       1.0     24.5     32.3             0  \n",
       "139109       1011.2       7.0       0.0     24.8     32.0             0  \n",
       "139110       1011.8       0.0       0.0     24.8     32.1             0  \n",
       "139111       1010.7       1.0       1.0     24.8     29.2             0  \n",
       "139112       1009.7       6.0       5.0     25.4     31.0             0  \n",
       "\n",
       "[58090 rows x 17 columns]"
      ]
     },
     "execution_count": 536,
     "metadata": {},
     "output_type": "execute_result"
    }
   ],
   "source": [
    "datacleanall"
   ]
  },
  {
   "cell_type": "markdown",
   "metadata": {},
   "source": [
    "### Only keeping features with higher predictive power and/or lower number of NaN - will be called Reduced Data  "
   ]
  },
  {
   "cell_type": "code",
   "execution_count": 640,
   "metadata": {},
   "outputs": [],
   "source": [
    "#numdata_reduced_notclean = data.drop( ['Date', 'Location', 'WindGustDir', 'WindDir9am','WindDir3pm', 'RISK_MM','RainToday', 'Temp9am', 'MinTemp', 'Temp3pm', 'MaxTemp', 'Humidity3pm', 'Cloud9am', 'Cloud3pm', 'Sunshine'], axis=1)"
   ]
  },
  {
   "cell_type": "code",
   "execution_count": 641,
   "metadata": {},
   "outputs": [],
   "source": [
    "numdata_reduced_notclean = data.drop( ['Date', 'Location', 'WindGustDir', 'WindDir9am','WindDir3pm', 'RISK_MM','RainToday','Cloud9am', 'Cloud3pm', 'Sunshine'], axis=1)"
   ]
  },
  {
   "cell_type": "markdown",
   "metadata": {},
   "source": [
    "### Eliminate rows with NaN values for reduced data set"
   ]
  },
  {
   "cell_type": "code",
   "execution_count": 642,
   "metadata": {},
   "outputs": [
    {
     "data": {
      "text/plain": [
       "(74764, 14)"
      ]
     },
     "execution_count": 642,
     "metadata": {},
     "output_type": "execute_result"
    }
   ],
   "source": [
    "cleanred = numdata_reduced_notclean.notna()\n",
    "datacleanred = (numdata_reduced_notclean.loc[cleanred.prod(axis=1)==1])\n",
    "datacleanred.shape"
   ]
  },
  {
   "cell_type": "code",
   "execution_count": 643,
   "metadata": {},
   "outputs": [
    {
     "data": {
      "text/html": [
       "<div>\n",
       "<style scoped>\n",
       "    .dataframe tbody tr th:only-of-type {\n",
       "        vertical-align: middle;\n",
       "    }\n",
       "\n",
       "    .dataframe tbody tr th {\n",
       "        vertical-align: top;\n",
       "    }\n",
       "\n",
       "    .dataframe thead th {\n",
       "        text-align: right;\n",
       "    }\n",
       "</style>\n",
       "<table border=\"1\" class=\"dataframe\">\n",
       "  <thead>\n",
       "    <tr style=\"text-align: right;\">\n",
       "      <th></th>\n",
       "      <th>MinTemp</th>\n",
       "      <th>MaxTemp</th>\n",
       "      <th>Rainfall</th>\n",
       "      <th>Evaporation</th>\n",
       "      <th>WindGustSpeed</th>\n",
       "      <th>WindSpeed9am</th>\n",
       "      <th>WindSpeed3pm</th>\n",
       "      <th>Humidity9am</th>\n",
       "      <th>Humidity3pm</th>\n",
       "      <th>Pressure9am</th>\n",
       "      <th>Pressure3pm</th>\n",
       "      <th>Temp9am</th>\n",
       "      <th>Temp3pm</th>\n",
       "      <th>RainTomorrow</th>\n",
       "    </tr>\n",
       "  </thead>\n",
       "  <tbody>\n",
       "    <tr>\n",
       "      <td>5939</td>\n",
       "      <td>17.9</td>\n",
       "      <td>35.2</td>\n",
       "      <td>0.0</td>\n",
       "      <td>12.0</td>\n",
       "      <td>48.0</td>\n",
       "      <td>6.0</td>\n",
       "      <td>20.0</td>\n",
       "      <td>20.0</td>\n",
       "      <td>13.0</td>\n",
       "      <td>1006.3</td>\n",
       "      <td>1004.4</td>\n",
       "      <td>26.6</td>\n",
       "      <td>33.4</td>\n",
       "      <td>0</td>\n",
       "    </tr>\n",
       "    <tr>\n",
       "      <td>5940</td>\n",
       "      <td>18.4</td>\n",
       "      <td>28.9</td>\n",
       "      <td>0.0</td>\n",
       "      <td>14.8</td>\n",
       "      <td>37.0</td>\n",
       "      <td>19.0</td>\n",
       "      <td>19.0</td>\n",
       "      <td>30.0</td>\n",
       "      <td>8.0</td>\n",
       "      <td>1012.9</td>\n",
       "      <td>1012.1</td>\n",
       "      <td>20.3</td>\n",
       "      <td>27.0</td>\n",
       "      <td>0</td>\n",
       "    </tr>\n",
       "    <tr>\n",
       "      <td>5942</td>\n",
       "      <td>19.4</td>\n",
       "      <td>37.6</td>\n",
       "      <td>0.0</td>\n",
       "      <td>10.8</td>\n",
       "      <td>46.0</td>\n",
       "      <td>30.0</td>\n",
       "      <td>15.0</td>\n",
       "      <td>42.0</td>\n",
       "      <td>22.0</td>\n",
       "      <td>1012.3</td>\n",
       "      <td>1009.2</td>\n",
       "      <td>28.7</td>\n",
       "      <td>34.9</td>\n",
       "      <td>0</td>\n",
       "    </tr>\n",
       "    <tr>\n",
       "      <td>5943</td>\n",
       "      <td>21.9</td>\n",
       "      <td>38.4</td>\n",
       "      <td>0.0</td>\n",
       "      <td>11.4</td>\n",
       "      <td>31.0</td>\n",
       "      <td>6.0</td>\n",
       "      <td>6.0</td>\n",
       "      <td>37.0</td>\n",
       "      <td>22.0</td>\n",
       "      <td>1012.7</td>\n",
       "      <td>1009.1</td>\n",
       "      <td>29.1</td>\n",
       "      <td>35.6</td>\n",
       "      <td>0</td>\n",
       "    </tr>\n",
       "    <tr>\n",
       "      <td>5944</td>\n",
       "      <td>24.2</td>\n",
       "      <td>41.0</td>\n",
       "      <td>0.0</td>\n",
       "      <td>11.2</td>\n",
       "      <td>35.0</td>\n",
       "      <td>17.0</td>\n",
       "      <td>13.0</td>\n",
       "      <td>19.0</td>\n",
       "      <td>15.0</td>\n",
       "      <td>1010.7</td>\n",
       "      <td>1007.4</td>\n",
       "      <td>33.6</td>\n",
       "      <td>37.6</td>\n",
       "      <td>0</td>\n",
       "    </tr>\n",
       "    <tr>\n",
       "      <td>...</td>\n",
       "      <td>...</td>\n",
       "      <td>...</td>\n",
       "      <td>...</td>\n",
       "      <td>...</td>\n",
       "      <td>...</td>\n",
       "      <td>...</td>\n",
       "      <td>...</td>\n",
       "      <td>...</td>\n",
       "      <td>...</td>\n",
       "      <td>...</td>\n",
       "      <td>...</td>\n",
       "      <td>...</td>\n",
       "      <td>...</td>\n",
       "      <td>...</td>\n",
       "    </tr>\n",
       "    <tr>\n",
       "      <td>139985</td>\n",
       "      <td>18.2</td>\n",
       "      <td>35.5</td>\n",
       "      <td>0.0</td>\n",
       "      <td>5.0</td>\n",
       "      <td>41.0</td>\n",
       "      <td>4.0</td>\n",
       "      <td>22.0</td>\n",
       "      <td>65.0</td>\n",
       "      <td>27.0</td>\n",
       "      <td>1018.4</td>\n",
       "      <td>1014.0</td>\n",
       "      <td>25.2</td>\n",
       "      <td>34.9</td>\n",
       "      <td>0</td>\n",
       "    </tr>\n",
       "    <tr>\n",
       "      <td>139986</td>\n",
       "      <td>22.6</td>\n",
       "      <td>33.6</td>\n",
       "      <td>0.0</td>\n",
       "      <td>8.0</td>\n",
       "      <td>46.0</td>\n",
       "      <td>17.0</td>\n",
       "      <td>26.0</td>\n",
       "      <td>53.0</td>\n",
       "      <td>40.0</td>\n",
       "      <td>1020.1</td>\n",
       "      <td>1015.8</td>\n",
       "      <td>26.2</td>\n",
       "      <td>33.0</td>\n",
       "      <td>0</td>\n",
       "    </tr>\n",
       "    <tr>\n",
       "      <td>139987</td>\n",
       "      <td>17.4</td>\n",
       "      <td>30.7</td>\n",
       "      <td>0.0</td>\n",
       "      <td>10.8</td>\n",
       "      <td>46.0</td>\n",
       "      <td>22.0</td>\n",
       "      <td>19.0</td>\n",
       "      <td>28.0</td>\n",
       "      <td>42.0</td>\n",
       "      <td>1021.2</td>\n",
       "      <td>1016.5</td>\n",
       "      <td>21.3</td>\n",
       "      <td>30.0</td>\n",
       "      <td>0</td>\n",
       "    </tr>\n",
       "    <tr>\n",
       "      <td>139989</td>\n",
       "      <td>13.3</td>\n",
       "      <td>32.0</td>\n",
       "      <td>0.0</td>\n",
       "      <td>5.8</td>\n",
       "      <td>43.0</td>\n",
       "      <td>15.0</td>\n",
       "      <td>22.0</td>\n",
       "      <td>73.0</td>\n",
       "      <td>28.0</td>\n",
       "      <td>1019.2</td>\n",
       "      <td>1015.0</td>\n",
       "      <td>22.1</td>\n",
       "      <td>31.0</td>\n",
       "      <td>0</td>\n",
       "    </tr>\n",
       "    <tr>\n",
       "      <td>139990</td>\n",
       "      <td>13.0</td>\n",
       "      <td>32.0</td>\n",
       "      <td>0.0</td>\n",
       "      <td>6.6</td>\n",
       "      <td>43.0</td>\n",
       "      <td>7.0</td>\n",
       "      <td>22.0</td>\n",
       "      <td>70.0</td>\n",
       "      <td>32.0</td>\n",
       "      <td>1017.8</td>\n",
       "      <td>1013.0</td>\n",
       "      <td>21.7</td>\n",
       "      <td>31.0</td>\n",
       "      <td>0</td>\n",
       "    </tr>\n",
       "  </tbody>\n",
       "</table>\n",
       "<p>74764 rows × 14 columns</p>\n",
       "</div>"
      ],
      "text/plain": [
       "        MinTemp  MaxTemp  Rainfall  Evaporation  WindGustSpeed  WindSpeed9am  \\\n",
       "5939       17.9     35.2       0.0         12.0           48.0           6.0   \n",
       "5940       18.4     28.9       0.0         14.8           37.0          19.0   \n",
       "5942       19.4     37.6       0.0         10.8           46.0          30.0   \n",
       "5943       21.9     38.4       0.0         11.4           31.0           6.0   \n",
       "5944       24.2     41.0       0.0         11.2           35.0          17.0   \n",
       "...         ...      ...       ...          ...            ...           ...   \n",
       "139985     18.2     35.5       0.0          5.0           41.0           4.0   \n",
       "139986     22.6     33.6       0.0          8.0           46.0          17.0   \n",
       "139987     17.4     30.7       0.0         10.8           46.0          22.0   \n",
       "139989     13.3     32.0       0.0          5.8           43.0          15.0   \n",
       "139990     13.0     32.0       0.0          6.6           43.0           7.0   \n",
       "\n",
       "        WindSpeed3pm  Humidity9am  Humidity3pm  Pressure9am  Pressure3pm  \\\n",
       "5939            20.0         20.0         13.0       1006.3       1004.4   \n",
       "5940            19.0         30.0          8.0       1012.9       1012.1   \n",
       "5942            15.0         42.0         22.0       1012.3       1009.2   \n",
       "5943             6.0         37.0         22.0       1012.7       1009.1   \n",
       "5944            13.0         19.0         15.0       1010.7       1007.4   \n",
       "...              ...          ...          ...          ...          ...   \n",
       "139985          22.0         65.0         27.0       1018.4       1014.0   \n",
       "139986          26.0         53.0         40.0       1020.1       1015.8   \n",
       "139987          19.0         28.0         42.0       1021.2       1016.5   \n",
       "139989          22.0         73.0         28.0       1019.2       1015.0   \n",
       "139990          22.0         70.0         32.0       1017.8       1013.0   \n",
       "\n",
       "        Temp9am  Temp3pm  RainTomorrow  \n",
       "5939       26.6     33.4             0  \n",
       "5940       20.3     27.0             0  \n",
       "5942       28.7     34.9             0  \n",
       "5943       29.1     35.6             0  \n",
       "5944       33.6     37.6             0  \n",
       "...         ...      ...           ...  \n",
       "139985     25.2     34.9             0  \n",
       "139986     26.2     33.0             0  \n",
       "139987     21.3     30.0             0  \n",
       "139989     22.1     31.0             0  \n",
       "139990     21.7     31.0             0  \n",
       "\n",
       "[74764 rows x 14 columns]"
      ]
     },
     "execution_count": 643,
     "metadata": {},
     "output_type": "execute_result"
    }
   ],
   "source": [
    "datacleanred"
   ]
  },
  {
   "cell_type": "markdown",
   "metadata": {},
   "source": [
    "## Define training and test set\n"
   ]
  },
  {
   "cell_type": "markdown",
   "metadata": {},
   "source": [
    "### Sizes of training and test sets for full and reduced data sets"
   ]
  },
  {
   "cell_type": "code",
   "execution_count": 540,
   "metadata": {},
   "outputs": [],
   "source": [
    "data_nums = datacleanall.to_numpy()\n",
    "m = data_nums.shape[0]     # number of data points\n",
    "n = data_nums.shape[1]-1     # number of features\n",
    "m_train = int(0.8 * m)\n",
    "m_test = int(m- m_train)\n",
    "data_nums = data_nums.astype(float)"
   ]
  },
  {
   "cell_type": "code",
   "execution_count": 644,
   "metadata": {},
   "outputs": [],
   "source": [
    "data_nums_red = datacleanred.to_numpy()\n",
    "m_red = data_nums_red.shape[0]     # number of data points\n",
    "n_red = data_nums_red.shape[1]-1     # number of features\n",
    "m_train_red = int(0.8 * m_red)\n",
    "m_test_red = int(m_red- m_train_red)\n",
    "data_nums_red = data_nums_red.astype(float)"
   ]
  },
  {
   "cell_type": "markdown",
   "metadata": {},
   "source": [
    "### Randomize order of rows to eliminated possible bias due to ordered date of measuremnt when dividing full set into training and test set"
   ]
  },
  {
   "cell_type": "code",
   "execution_count": 542,
   "metadata": {},
   "outputs": [],
   "source": [
    "data_nums_shuff = data_nums\n",
    "np.random.shuffle(data_nums_shuff)"
   ]
  },
  {
   "cell_type": "code",
   "execution_count": 645,
   "metadata": {},
   "outputs": [],
   "source": [
    "data_nums_shuff_red = data_nums_red\n",
    "np.random.shuffle(data_nums_shuff_red)"
   ]
  },
  {
   "cell_type": "markdown",
   "metadata": {},
   "source": [
    "### Define training set"
   ]
  },
  {
   "cell_type": "code",
   "execution_count": 544,
   "metadata": {},
   "outputs": [
    {
     "data": {
      "text/plain": [
       "((46472, 16), (46472, 1))"
      ]
     },
     "execution_count": 544,
     "metadata": {},
     "output_type": "execute_result"
    }
   ],
   "source": [
    "X_train = data_nums_shuff[0:m_train , 0:n]\n",
    "Y_train = data_nums_shuff[0:m_train,-1].reshape((m_train,1))\n",
    "X_train.shape, Y_train.shape"
   ]
  },
  {
   "cell_type": "code",
   "execution_count": 646,
   "metadata": {},
   "outputs": [
    {
     "data": {
      "text/plain": [
       "((59811, 13), (59811, 1))"
      ]
     },
     "execution_count": 646,
     "metadata": {},
     "output_type": "execute_result"
    }
   ],
   "source": [
    "X_train_red = data_nums_shuff_red[0:m_train_red , 0:n_red]\n",
    "Y_train_red = data_nums_shuff_red[0:m_train_red,-1].reshape((m_train_red,1))\n",
    "X_train_red.shape, Y_train_red.shape"
   ]
  },
  {
   "cell_type": "markdown",
   "metadata": {},
   "source": [
    "### Define test set"
   ]
  },
  {
   "cell_type": "code",
   "execution_count": 546,
   "metadata": {},
   "outputs": [
    {
     "data": {
      "text/plain": [
       "((11618, 16), (11618, 1))"
      ]
     },
     "execution_count": 546,
     "metadata": {},
     "output_type": "execute_result"
    }
   ],
   "source": [
    "X_test = data_nums_shuff[0:m_test , 0:n]\n",
    "Y_test = data_nums_shuff[0:m_test,-1].reshape((m_test,1))\n",
    "X_test.shape, Y_test.shape"
   ]
  },
  {
   "cell_type": "code",
   "execution_count": 647,
   "metadata": {},
   "outputs": [
    {
     "data": {
      "text/plain": [
       "((14953, 13), (14953, 1))"
      ]
     },
     "execution_count": 647,
     "metadata": {},
     "output_type": "execute_result"
    }
   ],
   "source": [
    "X_test_red = data_nums_shuff_red[0:m_test_red , 0:n_red]\n",
    "Y_test_red = data_nums_shuff_red[0:m_test_red,-1].reshape((m_test_red,1))\n",
    "X_test_red.shape, Y_test_red.shape"
   ]
  },
  {
   "cell_type": "markdown",
   "metadata": {},
   "source": [
    "### Rescaling features"
   ]
  },
  {
   "cell_type": "code",
   "execution_count": 628,
   "metadata": {},
   "outputs": [
    {
     "data": {
      "text/plain": [
       "(11618, 1)"
      ]
     },
     "execution_count": 628,
     "metadata": {},
     "output_type": "execute_result"
    }
   ],
   "source": [
    "mean_X_train = (np.sum(X_train, axis=0)/(m_train)).reshape((1,n))\n",
    "mean_X_test = (np.sum(X_test, axis=0)/(m_test)).reshape((1,n))\n",
    "\n",
    "max_train = np.amax(X_train, axis=0)\n",
    "min_train = np.amin(X_train, axis=0)\n",
    "\n",
    "max_test = np.amax(X_test, axis=0)\n",
    "min_test = np.amin(X_test, axis=0)\n",
    "\n",
    "maxmin_train = (max_train - min_train).reshape((1,n))\n",
    "maxmin_test = (max_test - min_test).reshape((1,n))\n",
    "\n",
    "X_trainR = (X_train - mean_X_train)/maxmin_train\n",
    "X_testR = (X_test - mean_X_test)/maxmin_test\n",
    "\n",
    "X_trainR = X_trainR.astype(float) \n",
    "X_testR = X_testR.astype(float) \n",
    "Y_train = Y_train.astype(float)\n",
    "Y_test = Y_test.astype(float)\n",
    "Y_test.shape"
   ]
  },
  {
   "cell_type": "code",
   "execution_count": 648,
   "metadata": {},
   "outputs": [
    {
     "data": {
      "text/plain": [
       "(14953, 1)"
      ]
     },
     "execution_count": 648,
     "metadata": {},
     "output_type": "execute_result"
    }
   ],
   "source": [
    "mean_X_train_red = (np.sum(X_train_red, axis=0)/(m_train_red)).reshape((1,n_red))\n",
    "mean_X_test_red = (np.sum(X_test_red, axis=0)/(m_test_red)).reshape((1,n_red))\n",
    "\n",
    "max_train_red = np.amax(X_train_red, axis=0)\n",
    "min_train_red = np.amin(X_train_red, axis=0)\n",
    "\n",
    "max_test_red = np.amax(X_test_red, axis=0)\n",
    "min_test_red = np.amin(X_test_red, axis=0)\n",
    "\n",
    "maxmin_train_red = (max_train_red - min_train_red).reshape((1,n_red))\n",
    "maxmin_test_red = (max_test_red - min_test_red).reshape((1,n_red))\n",
    "\n",
    "X_trainR_red = (X_train_red - mean_X_train_red)/maxmin_train_red\n",
    "X_testR_red = (X_test_red - mean_X_test_red)/maxmin_test_red\n",
    "\n",
    "X_trainR_red = X_trainR_red.astype(float) \n",
    "X_testR_red = X_testR_red.astype(float) \n",
    "Y_train_red = Y_train_red.astype(float)\n",
    "Y_test_red = Y_test_red.astype(float)\n",
    "Y_test_red.shape"
   ]
  },
  {
   "cell_type": "markdown",
   "metadata": {},
   "source": [
    "### Sigmoid function"
   ]
  },
  {
   "cell_type": "code",
   "execution_count": 630,
   "metadata": {},
   "outputs": [],
   "source": [
    "def sigmoid(z):\n",
    "    s = 1/(1+np.exp(-z))\n",
    "    return s\n"
   ]
  },
  {
   "cell_type": "markdown",
   "metadata": {},
   "source": [
    "### Initial parameter vector"
   ]
  },
  {
   "cell_type": "code",
   "execution_count": 631,
   "metadata": {},
   "outputs": [
    {
     "name": "stdout",
     "output_type": "stream",
     "text": [
      "(0, array([[0., 0., 0., 0., 0., 0., 0., 0., 0., 0., 0., 0., 0., 0., 0., 0.]]))\n"
     ]
    }
   ],
   "source": [
    "def initial_theta(n):\n",
    "    thetax = np.zeros((1,n))\n",
    "    theta0=0\n",
    "    return theta0, thetax\n",
    "\n",
    "print(initial_theta(n))"
   ]
  },
  {
   "cell_type": "markdown",
   "metadata": {},
   "source": [
    "### Cost function"
   ]
  },
  {
   "cell_type": "code",
   "execution_count": 632,
   "metadata": {},
   "outputs": [],
   "source": [
    "def cost(X, Y, theta0, thetax, m, lam):\n",
    "    sig = sigmoid(theta0 + np.dot(X, thetax.T)).reshape((m,1))\n",
    "    cost = - np.sum(Y*np.log(sig) + (1.0 - Y) * np.log(1.0- sig))/m\n",
    "    reg = (lam/ (2.0 * m)) * np.sum(thetax[:]**2)\n",
    "    return cost +reg"
   ]
  },
  {
   "cell_type": "markdown",
   "metadata": {},
   "source": [
    "### Derivative of Cost function"
   ]
  },
  {
   "cell_type": "code",
   "execution_count": 633,
   "metadata": {},
   "outputs": [],
   "source": [
    "def cost_grad(X, Y, theta0, thetax, m, lam):\n",
    "    sig = sigmoid(theta0 + np.dot(X, thetax.T)).reshape((m,1))\n",
    "    #print(X.shape, thetax.T.shape)\n",
    "   # print(sig.shape, Y.shape, X.T.shape)\n",
    "    grad0 = np.sum((sig - Y), axis=0)/m\n",
    "    gradx = np.dot(X.T, sig - Y)/m  + lam * thetax.T/m\n",
    "    #grad = np.insert(gradx, 0, grad0)\n",
    "    return grad0, gradx"
   ]
  },
  {
   "cell_type": "markdown",
   "metadata": {},
   "source": [
    "### Prediction function which compares resulting prediction (will or will not rain) with actual outcome"
   ]
  },
  {
   "cell_type": "code",
   "execution_count": 634,
   "metadata": {},
   "outputs": [],
   "source": [
    "def predict(theta0, thetax, X, m):   \n",
    "    Y_prediction = np.ones((m,1)) \n",
    "    Y_predic_sig = np.ones((m,1)) \n",
    "    sig = sigmoid(theta0 + np.dot(X, thetax.T)).reshape((m,1))  \n",
    "    for i in range(m):      \n",
    "        Y_predic_sig[i,:] = sig[i,0]\n",
    "        Y_prediction[i,:] = [1 if sig[i,0]> 0.5 else 0]\n",
    "    assert(Y_prediction.shape == (m,1))\n",
    "    return Y_prediction, Y_predic_sig\n"
   ]
  },
  {
   "cell_type": "markdown",
   "metadata": {},
   "source": [
    "### Gradient Descent to find best fit parameters"
   ]
  },
  {
   "cell_type": "code",
   "execution_count": 635,
   "metadata": {},
   "outputs": [],
   "source": [
    "def gradD(X, Y, m, n, lam, alpha, iterations):\n",
    "    cost_history = np.zeros(iterations)\n",
    "    theta_history = np.zeros((iterations, n+1))\n",
    "    np.shape(theta_history[1,1:n+1])\n",
    "    theta0, thetax = initial_theta(n)\n",
    "    for it in range(iterations):\n",
    "        theta0n = theta0 -  alpha * cost_grad(X, Y, theta0, thetax, m, lam)[0].T\n",
    "        thetaxn = thetax -  alpha * cost_grad(X, Y, theta0, thetax, m, lam)[1].T\n",
    "        theta_history[it,0]=theta0n\n",
    "        theta_history[it,1:n+1]=thetaxn\n",
    "        cost_history[it]= cost(X, Y,  theta0n, thetaxn, m, lam)\n",
    "        theta0 = theta0n\n",
    "        thetax = thetaxn\n",
    "        #print(it,cost(X, Y,  theta0n, thetaxn, m, lam))\n",
    "    theta = np.insert(thetax, 0, theta0)\n",
    "    return theta, theta_history, cost_history "
   ]
  },
  {
   "cell_type": "markdown",
   "metadata": {},
   "source": [
    "## Running Gradient Descent "
   ]
  },
  {
   "cell_type": "markdown",
   "metadata": {},
   "source": [
    "### All features result"
   ]
  },
  {
   "cell_type": "code",
   "execution_count": 556,
   "metadata": {},
   "outputs": [],
   "source": [
    "theta_result, theta_hist, cost_hist = gradD(X_trainR, Y_train, m_train, n, 0, 0.1, 6000)"
   ]
  },
  {
   "cell_type": "code",
   "execution_count": 606,
   "metadata": {},
   "outputs": [
    {
     "data": {
      "text/plain": [
       "<function matplotlib.pyplot.show(*args, **kw)>"
      ]
     },
     "execution_count": 606,
     "metadata": {},
     "output_type": "execute_result"
    },
    {
     "data": {
      "image/png": "[encoded data removed]",
      "text/plain": [
       "<Figure size 432x288 with 1 Axes>"
      ]
     },
     "metadata": {
      "needs_background": "light"
     },
     "output_type": "display_data"
    }
   ],
   "source": [
    "plt.title('Cost Function History')\n",
    "plt.plot(cost_hist)\n",
    "plt.xlabel('iterarions')\n",
    "plt.ylabel('cost')\n",
    "plt.show"
   ]
  },
  {
   "cell_type": "markdown",
   "metadata": {},
   "source": [
    "### Reduced features result"
   ]
  },
  {
   "cell_type": "code",
   "execution_count": 649,
   "metadata": {},
   "outputs": [],
   "source": [
    "theta_result_red, theta_hist_red, cost_hist_red = gradD(X_trainR_red, Y_train_red, m_train_red, n_red, 1, 0.1, 6000)"
   ]
  },
  {
   "cell_type": "code",
   "execution_count": 650,
   "metadata": {},
   "outputs": [
    {
     "data": {
      "text/plain": [
       "<function matplotlib.pyplot.show(*args, **kw)>"
      ]
     },
     "execution_count": 650,
     "metadata": {},
     "output_type": "execute_result"
    },
    {
     "data": {
      "image/png": "[encoded data removed]",
      "text/plain": [
       "<Figure size 432x288 with 1 Axes>"
      ]
     },
     "metadata": {
      "needs_background": "light"
     },
     "output_type": "display_data"
    }
   ],
   "source": [
    "plt.title('Cost Function History')\n",
    "plt.plot(cost_hist_red)\n",
    "plt.xlabel('iterarions')\n",
    "plt.ylabel('cost')\n",
    "plt.show"
   ]
  },
  {
   "cell_type": "markdown",
   "metadata": {},
   "source": [
    "## Plot Bias and Pole Distribution"
   ]
  },
  {
   "cell_type": "markdown",
   "metadata": {},
   "source": [
    "## Accuracy of predition in persentage "
   ]
  },
  {
   "cell_type": "code",
   "execution_count": 517,
   "metadata": {},
   "outputs": [],
   "source": [
    "def accuracy(theta0r, thetaxr, X, Y, m):\n",
    "    Y_predict = predict(theta0r, thetaxr, X, m)[0]\n",
    "    acc = 100 - np.mean(np.abs(Y_predict - Y)) * 100\n",
    "    return acc"
   ]
  },
  {
   "cell_type": "markdown",
   "metadata": {},
   "source": [
    "### Accuracy of all feature training set preditions "
   ]
  },
  {
   "cell_type": "code",
   "execution_count": 558,
   "metadata": {},
   "outputs": [
    {
     "data": {
      "text/plain": [
       "84.7262867963505"
      ]
     },
     "execution_count": 558,
     "metadata": {},
     "output_type": "execute_result"
    }
   ],
   "source": [
    "accuracy(theta_result[0], theta_result[1:], X_trainR, Y_train, m_train)"
   ]
  },
  {
   "cell_type": "markdown",
   "metadata": {},
   "source": [
    "### Accuracy of all feature test set preditions "
   ]
  },
  {
   "cell_type": "code",
   "execution_count": 559,
   "metadata": {},
   "outputs": [
    {
     "data": {
      "text/plain": [
       "84.73059046307453"
      ]
     },
     "execution_count": 559,
     "metadata": {},
     "output_type": "execute_result"
    }
   ],
   "source": [
    "accuracy(theta_result[0], theta_result[1:], X_testR, Y_test, m_test)"
   ]
  },
  {
   "cell_type": "markdown",
   "metadata": {},
   "source": [
    "### Accuracy of reduced feature training set preditions "
   ]
  },
  {
   "cell_type": "code",
   "execution_count": 652,
   "metadata": {},
   "outputs": [
    {
     "data": {
      "text/plain": [
       "84.77537576699937"
      ]
     },
     "execution_count": 652,
     "metadata": {},
     "output_type": "execute_result"
    }
   ],
   "source": [
    "accuracy(theta_result_red[0], theta_result_red[1:], X_trainR_red, Y_train_red, m_train_red)"
   ]
  },
  {
   "cell_type": "markdown",
   "metadata": {},
   "source": [
    "### Accuracy of reduced feature test set preditions "
   ]
  },
  {
   "cell_type": "code",
   "execution_count": 651,
   "metadata": {},
   "outputs": [
    {
     "data": {
      "text/plain": [
       "84.74553601284023"
      ]
     },
     "execution_count": 651,
     "metadata": {},
     "output_type": "execute_result"
    }
   ],
   "source": [
    "accuracy(theta_result_red[0], theta_result_red[1:], X_testR_red, Y_test_red, m_test_red)"
   ]
  },
  {
   "cell_type": "code",
   "execution_count": 524,
   "metadata": {},
   "outputs": [
    {
     "data": {
      "text/plain": [
       "0.3468345529512696"
      ]
     },
     "execution_count": 524,
     "metadata": {},
     "output_type": "execute_result"
    }
   ],
   "source": [
    "cost(X_testR, Y_test, theta_result[0], theta_result[1:], m_test, 1)"
   ]
  },
  {
   "cell_type": "code",
   "execution_count": 525,
   "metadata": {},
   "outputs": [
    {
     "data": {
      "text/plain": [
       "0.3456216952817596"
      ]
     },
     "execution_count": 525,
     "metadata": {},
     "output_type": "execute_result"
    }
   ],
   "source": [
    "cost_hist[-1]"
   ]
  }
 ],
 "metadata": {
  "kernelspec": {
   "display_name": "Python 3",
   "language": "python",
   "name": "python3"
  },
  "language_info": {
   "codemirror_mode": {
    "name": "ipython",
    "version": 3
   },
   "file_extension": ".py",
   "mimetype": "text/x-python",
   "name": "python",
   "nbconvert_exporter": "python",
   "pygments_lexer": "ipython3",
   "version": "3.7.4"
  }
 },
 "nbformat": 4,
 "nbformat_minor": 2
}
