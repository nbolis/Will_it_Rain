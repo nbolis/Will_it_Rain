{
 "cells": [
  {
   "cell_type": "markdown",
   "metadata": {},
   "source": [
    "# Will it Rain?"
   ]
  },
  {
   "cell_type": "markdown",
   "metadata": {},
   "source": [
    "Data sourced from : https://www.kaggle.com/jsphyg/weather-dataset-rattle-package"
   ]
  },
  {
   "cell_type": "markdown",
   "metadata": {},
   "source": [
    "## Binary classification implemented with logistic regression which uses meteorological data to predict wheather it will rain.\n",
    "\n",
    "### How it works:\n",
    "\n",
    "- Input: set or subset of measurements of meteorological features (listed below) together with meteorological data set. \n",
    "- Output: 'it will rain' or 'it will not rain' with the accuracy of the classification for both training and test sets and the confusion matrix for the run. \n",
    "- Optional input: change the gradient descent run parameters. "
   ]
  },
  {
   "cell_type": "code",
   "execution_count": 1,
   "metadata": {},
   "outputs": [],
   "source": [
    "import numpy as np\n",
    "import pandas as pd\n",
    "import matplotlib.pyplot as plt\n",
    "import scipy.optimize as opt  \n",
    "import seaborn as sns\n",
    "from scipy.integrate import trapz"
   ]
  },
  {
   "cell_type": "markdown",
   "metadata": {},
   "source": [
    "### Importing data and converting 'yes' it will rain to 1 and 'no' it will not rain to 0"
   ]
  },
  {
   "cell_type": "code",
   "execution_count": 2,
   "metadata": {},
   "outputs": [],
   "source": [
    "data = pd.read_csv('weatherAUS.csv')\n",
    "data.loc[data.RainTomorrow == 'No', 'RainTomorrow'] = 0\n",
    "data.loc[data.RainTomorrow == 'Yes', 'RainTomorrow'] = 1\n",
    "data.loc[data.RainToday == 'No', 'RainToday'] = 0\n",
    "data.loc[data.RainToday == 'Yes', 'RainToday'] = 1"
   ]
  },
  {
   "cell_type": "code",
   "execution_count": 3,
   "metadata": {},
   "outputs": [
    {
     "data": {
      "text/html": [
       "<div>\n",
       "<style scoped>\n",
       "    .dataframe tbody tr th:only-of-type {\n",
       "        vertical-align: middle;\n",
       "    }\n",
       "\n",
       "    .dataframe tbody tr th {\n",
       "        vertical-align: top;\n",
       "    }\n",
       "\n",
       "    .dataframe thead th {\n",
       "        text-align: right;\n",
       "    }\n",
       "</style>\n",
       "<table border=\"1\" class=\"dataframe\">\n",
       "  <thead>\n",
       "    <tr style=\"text-align: right;\">\n",
       "      <th></th>\n",
       "      <th>Date</th>\n",
       "      <th>Location</th>\n",
       "      <th>MinTemp</th>\n",
       "      <th>MaxTemp</th>\n",
       "      <th>Rainfall</th>\n",
       "      <th>Evaporation</th>\n",
       "      <th>Sunshine</th>\n",
       "      <th>WindGustDir</th>\n",
       "      <th>WindGustSpeed</th>\n",
       "      <th>WindDir9am</th>\n",
       "      <th>...</th>\n",
       "      <th>Humidity3pm</th>\n",
       "      <th>Pressure9am</th>\n",
       "      <th>Pressure3pm</th>\n",
       "      <th>Cloud9am</th>\n",
       "      <th>Cloud3pm</th>\n",
       "      <th>Temp9am</th>\n",
       "      <th>Temp3pm</th>\n",
       "      <th>RainToday</th>\n",
       "      <th>RISK_MM</th>\n",
       "      <th>RainTomorrow</th>\n",
       "    </tr>\n",
       "  </thead>\n",
       "  <tbody>\n",
       "    <tr>\n",
       "      <td>0</td>\n",
       "      <td>2008-12-01</td>\n",
       "      <td>Albury</td>\n",
       "      <td>13.4</td>\n",
       "      <td>22.9</td>\n",
       "      <td>0.6</td>\n",
       "      <td>NaN</td>\n",
       "      <td>NaN</td>\n",
       "      <td>W</td>\n",
       "      <td>44.0</td>\n",
       "      <td>W</td>\n",
       "      <td>...</td>\n",
       "      <td>22.0</td>\n",
       "      <td>1007.7</td>\n",
       "      <td>1007.1</td>\n",
       "      <td>8.0</td>\n",
       "      <td>NaN</td>\n",
       "      <td>16.9</td>\n",
       "      <td>21.8</td>\n",
       "      <td>0</td>\n",
       "      <td>0.0</td>\n",
       "      <td>0</td>\n",
       "    </tr>\n",
       "    <tr>\n",
       "      <td>1</td>\n",
       "      <td>2008-12-02</td>\n",
       "      <td>Albury</td>\n",
       "      <td>7.4</td>\n",
       "      <td>25.1</td>\n",
       "      <td>0.0</td>\n",
       "      <td>NaN</td>\n",
       "      <td>NaN</td>\n",
       "      <td>WNW</td>\n",
       "      <td>44.0</td>\n",
       "      <td>NNW</td>\n",
       "      <td>...</td>\n",
       "      <td>25.0</td>\n",
       "      <td>1010.6</td>\n",
       "      <td>1007.8</td>\n",
       "      <td>NaN</td>\n",
       "      <td>NaN</td>\n",
       "      <td>17.2</td>\n",
       "      <td>24.3</td>\n",
       "      <td>0</td>\n",
       "      <td>0.0</td>\n",
       "      <td>0</td>\n",
       "    </tr>\n",
       "    <tr>\n",
       "      <td>2</td>\n",
       "      <td>2008-12-03</td>\n",
       "      <td>Albury</td>\n",
       "      <td>12.9</td>\n",
       "      <td>25.7</td>\n",
       "      <td>0.0</td>\n",
       "      <td>NaN</td>\n",
       "      <td>NaN</td>\n",
       "      <td>WSW</td>\n",
       "      <td>46.0</td>\n",
       "      <td>W</td>\n",
       "      <td>...</td>\n",
       "      <td>30.0</td>\n",
       "      <td>1007.6</td>\n",
       "      <td>1008.7</td>\n",
       "      <td>NaN</td>\n",
       "      <td>2.0</td>\n",
       "      <td>21.0</td>\n",
       "      <td>23.2</td>\n",
       "      <td>0</td>\n",
       "      <td>0.0</td>\n",
       "      <td>0</td>\n",
       "    </tr>\n",
       "    <tr>\n",
       "      <td>3</td>\n",
       "      <td>2008-12-04</td>\n",
       "      <td>Albury</td>\n",
       "      <td>9.2</td>\n",
       "      <td>28.0</td>\n",
       "      <td>0.0</td>\n",
       "      <td>NaN</td>\n",
       "      <td>NaN</td>\n",
       "      <td>NE</td>\n",
       "      <td>24.0</td>\n",
       "      <td>SE</td>\n",
       "      <td>...</td>\n",
       "      <td>16.0</td>\n",
       "      <td>1017.6</td>\n",
       "      <td>1012.8</td>\n",
       "      <td>NaN</td>\n",
       "      <td>NaN</td>\n",
       "      <td>18.1</td>\n",
       "      <td>26.5</td>\n",
       "      <td>0</td>\n",
       "      <td>1.0</td>\n",
       "      <td>0</td>\n",
       "    </tr>\n",
       "    <tr>\n",
       "      <td>4</td>\n",
       "      <td>2008-12-05</td>\n",
       "      <td>Albury</td>\n",
       "      <td>17.5</td>\n",
       "      <td>32.3</td>\n",
       "      <td>1.0</td>\n",
       "      <td>NaN</td>\n",
       "      <td>NaN</td>\n",
       "      <td>W</td>\n",
       "      <td>41.0</td>\n",
       "      <td>ENE</td>\n",
       "      <td>...</td>\n",
       "      <td>33.0</td>\n",
       "      <td>1010.8</td>\n",
       "      <td>1006.0</td>\n",
       "      <td>7.0</td>\n",
       "      <td>8.0</td>\n",
       "      <td>17.8</td>\n",
       "      <td>29.7</td>\n",
       "      <td>0</td>\n",
       "      <td>0.2</td>\n",
       "      <td>0</td>\n",
       "    </tr>\n",
       "  </tbody>\n",
       "</table>\n",
       "<p>5 rows × 24 columns</p>\n",
       "</div>"
      ],
      "text/plain": [
       "         Date Location  MinTemp  MaxTemp  Rainfall  Evaporation  Sunshine  \\\n",
       "0  2008-12-01   Albury     13.4     22.9       0.6          NaN       NaN   \n",
       "1  2008-12-02   Albury      7.4     25.1       0.0          NaN       NaN   \n",
       "2  2008-12-03   Albury     12.9     25.7       0.0          NaN       NaN   \n",
       "3  2008-12-04   Albury      9.2     28.0       0.0          NaN       NaN   \n",
       "4  2008-12-05   Albury     17.5     32.3       1.0          NaN       NaN   \n",
       "\n",
       "  WindGustDir  WindGustSpeed WindDir9am  ... Humidity3pm  Pressure9am  \\\n",
       "0           W           44.0          W  ...        22.0       1007.7   \n",
       "1         WNW           44.0        NNW  ...        25.0       1010.6   \n",
       "2         WSW           46.0          W  ...        30.0       1007.6   \n",
       "3          NE           24.0         SE  ...        16.0       1017.6   \n",
       "4           W           41.0        ENE  ...        33.0       1010.8   \n",
       "\n",
       "   Pressure3pm  Cloud9am  Cloud3pm  Temp9am  Temp3pm  RainToday  RISK_MM  \\\n",
       "0       1007.1       8.0       NaN     16.9     21.8          0      0.0   \n",
       "1       1007.8       NaN       NaN     17.2     24.3          0      0.0   \n",
       "2       1008.7       NaN       2.0     21.0     23.2          0      0.0   \n",
       "3       1012.8       NaN       NaN     18.1     26.5          0      1.0   \n",
       "4       1006.0       7.0       8.0     17.8     29.7          0      0.2   \n",
       "\n",
       "   RainTomorrow  \n",
       "0             0  \n",
       "1             0  \n",
       "2             0  \n",
       "3             0  \n",
       "4             0  \n",
       "\n",
       "[5 rows x 24 columns]"
      ]
     },
     "execution_count": 3,
     "metadata": {},
     "output_type": "execute_result"
    }
   ],
   "source": [
    "data.head()"
   ]
  },
  {
   "cell_type": "markdown",
   "metadata": {},
   "source": [
    "### How many null (nan) values for each feature?"
   ]
  },
  {
   "cell_type": "code",
   "execution_count": 4,
   "metadata": {},
   "outputs": [
    {
     "data": {
      "text/plain": [
       "Date                 0\n",
       "Location             0\n",
       "MinTemp            637\n",
       "MaxTemp            322\n",
       "Rainfall          1406\n",
       "Evaporation      60843\n",
       "Sunshine         67816\n",
       "WindGustDir       9330\n",
       "WindGustSpeed     9270\n",
       "WindDir9am       10013\n",
       "WindDir3pm        3778\n",
       "WindSpeed9am      1348\n",
       "WindSpeed3pm      2630\n",
       "Humidity9am       1774\n",
       "Humidity3pm       3610\n",
       "Pressure9am      14014\n",
       "Pressure3pm      13981\n",
       "Cloud9am         53657\n",
       "Cloud3pm         57094\n",
       "Temp9am            904\n",
       "Temp3pm           2726\n",
       "RainToday         1406\n",
       "RISK_MM              0\n",
       "RainTomorrow         0\n",
       "dtype: int64"
      ]
     },
     "execution_count": 4,
     "metadata": {},
     "output_type": "execute_result"
    }
   ],
   "source": [
    "data.isna().sum()"
   ]
  },
  {
   "cell_type": "markdown",
   "metadata": {},
   "source": [
    "## Prelinary Analysis: Determining Importance of Each Feature"
   ]
  },
  {
   "cell_type": "markdown",
   "metadata": {},
   "source": [
    "#### Since some features have many missing data points it will be helpful to determine the predictive power of each feature to see which ones are most relevant. "
   ]
  },
  {
   "cell_type": "markdown",
   "metadata": {},
   "source": [
    "### Drop all non numerical data and the predictions"
   ]
  },
  {
   "cell_type": "code",
   "execution_count": 5,
   "metadata": {},
   "outputs": [],
   "source": [
    "numdataX = data.drop(['Date', 'Location', 'WindGustDir', 'WindDir9am','WindDir3pm', 'RISK_MM','RainToday','RainTomorrow'], axis=1)\n",
    "numdataX_shape = numdataX.shape\n",
    "n_numX = numdataX_shape[1]"
   ]
  },
  {
   "cell_type": "markdown",
   "metadata": {},
   "source": [
    "### Calculate the integral of the ROC curve of the rain vs no rain data for each feature. The larger the area the more predictive the feature will be.  "
   ]
  },
  {
   "cell_type": "code",
   "execution_count": 6,
   "metadata": {
    "scrolled": false
   },
   "outputs": [],
   "source": [
    "mtot = data.shape[0]               # max number of data points\n",
    "\n",
    "raintomorrow = data.RainTomorrow   # our predictions\n",
    "\n",
    "\n",
    "def rain_norain_ROC(feature, key, show_plot = True):\n",
    "    feat_arr = np.asarray(feature)\n",
    "    feat_arr = feat_arr[np.logical_not(np.isnan(feat_arr))]    # cleans feature data of NaN\n",
    "    rain = np.asarray([feature[raintomorrow==1]])              # picks out feature data which corresponds to a RainTomorrow =1 \n",
    "    notrain = np.asarray([feature[raintomorrow==0]])           # picks out feature data which corresponds to a RainTomorrow =0\n",
    "\n",
    "    rain = rain[np.logical_not(np.isnan(rain))]                # cleans feature-rain data of NaN\n",
    "    notrain = notrain[np.logical_not(np.isnan(notrain))]       # cleans feature-notrain data of NaN\n",
    "   \n",
    "    x = np.linspace(feat_arr.min(), feat_arr.max(), 100)\n",
    "\n",
    "    y_rain, x_rain = np.histogram(rain , bins= x)              # histogram of feature data that corresponds to rain\n",
    "    y_rain = y_rain/np.sum(y_rain)                             # normalization \n",
    "    y_notrain, x_notrain = np.histogram(notrain , bins= x)     # histogram of feature data that corresponds to no rain\n",
    "    y_notrain = y_notrain/np.sum(y_notrain)                    # normalization \n",
    "   \n",
    "    \n",
    "    rain_sum = np.cumsum(y_rain)                               # cumulative sum of rain and not rain feature data\n",
    "    notrain_sum = np.cumsum(y_notrain)\n",
    "  \n",
    "\n",
    "    s = 1-rain_sum                                              # True Positive (predict rain, it rains)\n",
    "    b = 1-notrain_sum                                           # False Positive(predict rain, it does not rain)\n",
    "    \n",
    "    area = -trapz(s, b)\n",
    "   \n",
    "    \n",
    "    if area < 0.5:                                             # ordering  to make sure the area under curve is > 0.5\n",
    "        s = rain_sum\n",
    "        b = notrain_sum\n",
    "        area = trapz(s, b)\n",
    "    \n",
    "    \n",
    "    if show_plot == True:                         # histogram plot of feature data divided into rain vs no rain \n",
    "        title1 = str(key) + \" Data Rain vs No Rain\"\n",
    "        plt.title(title1)\n",
    "        plt.step(x_rain[1:], y_rain, label='Rain')\n",
    "        plt.step(x_notrain[1:], y_notrain, label='No Rain')\n",
    "        plt.ylim(bottom=0)\n",
    "        plt.legend()\n",
    "        plt.show()\n",
    "    \n",
    "        title2 = str(key)+ \" Data Rain vs. No Rain Cumulative Sum\"\n",
    "        plt.title(title2)\n",
    "        plt.plot(s, label='Rain')                 # plot of feature data cumulative sum divided into rain vs no rain\n",
    "        plt.plot(b, label='No Rain')\n",
    "        plt.legend()\n",
    "        plt.show()\n",
    "    \n",
    "        title3 =  str(key)+ \" Data Rain vs. No Rain ROC curve\"\n",
    "        plt.title(title3)         # plot of ROC curve \n",
    "        plt.plot(b, s, '.')\n",
    "        plt.ylabel('rain')\n",
    "        plt.xlabel('no rain')\n",
    "        plt.show()\n",
    "    return 'ROC area:', area, key\n",
    "\n"
   ]
  },
  {
   "cell_type": "markdown",
   "metadata": {},
   "source": [
    "### Examples of Historgram and ROC curves for 2 features"
   ]
  },
  {
   "cell_type": "code",
   "execution_count": 7,
   "metadata": {},
   "outputs": [
    {
     "data": {
      "image/png": "[encoded data removed]",
      "text/plain": [
       "<Figure size 432x288 with 1 Axes>"
      ]
     },
     "metadata": {
      "needs_background": "light"
     },
     "output_type": "display_data"
    },
    {
     "data": {
      "image/png": "[encoded data removed]",
      "text/plain": [
       "<Figure size 432x288 with 1 Axes>"
      ]
     },
     "metadata": {
      "needs_background": "light"
     },
     "output_type": "display_data"
    },
    {
     "data": {
      "image/png": "[encoded data removed]",
      "text/plain": [
       "<Figure size 432x288 with 1 Axes>"
      ]
     },
     "metadata": {
      "needs_background": "light"
     },
     "output_type": "display_data"
    },
    {
     "data": {
      "image/png": "[encoded data removed]",
      "text/plain": [
       "<Figure size 432x288 with 1 Axes>"
      ]
     },
     "metadata": {
      "needs_background": "light"
     },
     "output_type": "display_data"
    },
    {
     "data": {
      "image/png": "[encoded data removed]",
      "text/plain": [
       "<Figure size 432x288 with 1 Axes>"
      ]
     },
     "metadata": {
      "needs_background": "light"
     },
     "output_type": "display_data"
    },
    {
     "data": {
      "image/png": "[encoded data removed]",
      "text/plain": [
       "<Figure size 432x288 with 1 Axes>"
      ]
     },
     "metadata": {
      "needs_background": "light"
     },
     "output_type": "display_data"
    },
    {
     "data": {
      "text/plain": [
       "('ROC area:', 0.6629917874773262, 'Preassure')"
      ]
     },
     "execution_count": 7,
     "metadata": {},
     "output_type": "execute_result"
    }
   ],
   "source": [
    "rain_norain_ROC(numdataX.Humidity3pm, 'Humidity')\n",
    "rain_norain_ROC(numdataX.Pressure9am, 'Preassure')"
   ]
  },
  {
   "cell_type": "markdown",
   "metadata": {},
   "source": [
    "### Predictive power vs number of null entries\n",
    "#### Calculated the ROC area for each feauture and list it next to number of null entries in total data set. By looking at this the featues with highest predictive power can be chosen. "
   ]
  },
  {
   "cell_type": "code",
   "execution_count": 8,
   "metadata": {},
   "outputs": [
    {
     "data": {
      "text/html": [
       "<div>\n",
       "<style scoped>\n",
       "    .dataframe tbody tr th:only-of-type {\n",
       "        vertical-align: middle;\n",
       "    }\n",
       "\n",
       "    .dataframe tbody tr th {\n",
       "        vertical-align: top;\n",
       "    }\n",
       "\n",
       "    .dataframe thead th {\n",
       "        text-align: right;\n",
       "    }\n",
       "</style>\n",
       "<table border=\"1\" class=\"dataframe\">\n",
       "  <thead>\n",
       "    <tr style=\"text-align: right;\">\n",
       "      <th></th>\n",
       "      <th>Power</th>\n",
       "      <th>NaN</th>\n",
       "    </tr>\n",
       "  </thead>\n",
       "  <tbody>\n",
       "    <tr>\n",
       "      <td>Rainfall</td>\n",
       "      <td>0.067285</td>\n",
       "      <td>1406</td>\n",
       "    </tr>\n",
       "    <tr>\n",
       "      <td>WindSpeed9am</td>\n",
       "      <td>0.442151</td>\n",
       "      <td>1348</td>\n",
       "    </tr>\n",
       "    <tr>\n",
       "      <td>Temp9am</td>\n",
       "      <td>0.520950</td>\n",
       "      <td>904</td>\n",
       "    </tr>\n",
       "    <tr>\n",
       "      <td>WindSpeed3pm</td>\n",
       "      <td>0.545959</td>\n",
       "      <td>2630</td>\n",
       "    </tr>\n",
       "    <tr>\n",
       "      <td>MinTemp</td>\n",
       "      <td>0.552951</td>\n",
       "      <td>637</td>\n",
       "    </tr>\n",
       "    <tr>\n",
       "      <td>Evaporation</td>\n",
       "      <td>0.586406</td>\n",
       "      <td>60843</td>\n",
       "    </tr>\n",
       "    <tr>\n",
       "      <td>Cloud9am</td>\n",
       "      <td>0.596760</td>\n",
       "      <td>53657</td>\n",
       "    </tr>\n",
       "    <tr>\n",
       "      <td>MaxTemp</td>\n",
       "      <td>0.609858</td>\n",
       "      <td>322</td>\n",
       "    </tr>\n",
       "    <tr>\n",
       "      <td>Temp3pm</td>\n",
       "      <td>0.633790</td>\n",
       "      <td>2726</td>\n",
       "    </tr>\n",
       "    <tr>\n",
       "      <td>WindGustSpeed</td>\n",
       "      <td>0.647329</td>\n",
       "      <td>9270</td>\n",
       "    </tr>\n",
       "    <tr>\n",
       "      <td>Pressure3pm</td>\n",
       "      <td>0.649036</td>\n",
       "      <td>13981</td>\n",
       "    </tr>\n",
       "    <tr>\n",
       "      <td>Pressure9am</td>\n",
       "      <td>0.662992</td>\n",
       "      <td>14014</td>\n",
       "    </tr>\n",
       "    <tr>\n",
       "      <td>Humidity9am</td>\n",
       "      <td>0.685152</td>\n",
       "      <td>1774</td>\n",
       "    </tr>\n",
       "    <tr>\n",
       "      <td>Cloud3pm</td>\n",
       "      <td>0.688282</td>\n",
       "      <td>57094</td>\n",
       "    </tr>\n",
       "    <tr>\n",
       "      <td>Humidity3pm</td>\n",
       "      <td>0.798698</td>\n",
       "      <td>3610</td>\n",
       "    </tr>\n",
       "    <tr>\n",
       "      <td>Sunshine</td>\n",
       "      <td>0.801639</td>\n",
       "      <td>67816</td>\n",
       "    </tr>\n",
       "  </tbody>\n",
       "</table>\n",
       "</div>"
      ],
      "text/plain": [
       "                  Power    NaN\n",
       "Rainfall       0.067285   1406\n",
       "WindSpeed9am   0.442151   1348\n",
       "Temp9am        0.520950    904\n",
       "WindSpeed3pm   0.545959   2630\n",
       "MinTemp        0.552951    637\n",
       "Evaporation    0.586406  60843\n",
       "Cloud9am       0.596760  53657\n",
       "MaxTemp        0.609858    322\n",
       "Temp3pm        0.633790   2726\n",
       "WindGustSpeed  0.647329   9270\n",
       "Pressure3pm    0.649036  13981\n",
       "Pressure9am    0.662992  14014\n",
       "Humidity9am    0.685152   1774\n",
       "Cloud3pm       0.688282  57094\n",
       "Humidity3pm    0.798698   3610\n",
       "Sunshine       0.801639  67816"
      ]
     },
     "execution_count": 8,
     "metadata": {},
     "output_type": "execute_result"
    }
   ],
   "source": [
    "def allROC(dataset):\n",
    "    pred= pd.DataFrame()\n",
    "    for k,v in dataset.iteritems():\n",
    "        ROC = rain_norain_ROC(v, k, False)\n",
    "        numofnan = v.isna().sum()\n",
    "        df = pd.DataFrame({'Power': ROC[1], 'NaN': numofnan}, index= {k})\n",
    "        pred =pred.append(df)\n",
    "    return pred\n",
    "\n",
    "Power_vs_NaN = allROC(numdataX)\n",
    "Power_vs_NaN.sort_values(by=['Power'])      # sorted by lowest to highest predictive power "
   ]
  },
  {
   "cell_type": "markdown",
   "metadata": {},
   "source": [
    "## Data Set Cleaning "
   ]
  },
  {
   "cell_type": "markdown",
   "metadata": {},
   "source": [
    "### Only keeping numerical data "
   ]
  },
  {
   "cell_type": "code",
   "execution_count": 9,
   "metadata": {},
   "outputs": [],
   "source": [
    "numdata = data.drop(['Date', 'Location', 'WindGustDir', 'WindDir9am','WindDir3pm', 'RISK_MM', 'RainToday'], axis=1)"
   ]
  },
  {
   "cell_type": "markdown",
   "metadata": {},
   "source": [
    "### Eliminate data rows with NaN values, keeping all feautes"
   ]
  },
  {
   "cell_type": "code",
   "execution_count": 10,
   "metadata": {},
   "outputs": [
    {
     "data": {
      "text/plain": [
       "(58090, 17)"
      ]
     },
     "execution_count": 10,
     "metadata": {},
     "output_type": "execute_result"
    }
   ],
   "source": [
    "cleanall = numdata.notna()\n",
    "datacleanall = (numdata.loc[cleanall.prod(axis=1)==1])\n",
    "datacleanall.shape"
   ]
  },
  {
   "cell_type": "code",
   "execution_count": 11,
   "metadata": {},
   "outputs": [
    {
     "data": {
      "text/html": [
       "<div>\n",
       "<style scoped>\n",
       "    .dataframe tbody tr th:only-of-type {\n",
       "        vertical-align: middle;\n",
       "    }\n",
       "\n",
       "    .dataframe tbody tr th {\n",
       "        vertical-align: top;\n",
       "    }\n",
       "\n",
       "    .dataframe thead th {\n",
       "        text-align: right;\n",
       "    }\n",
       "</style>\n",
       "<table border=\"1\" class=\"dataframe\">\n",
       "  <thead>\n",
       "    <tr style=\"text-align: right;\">\n",
       "      <th></th>\n",
       "      <th>MinTemp</th>\n",
       "      <th>MaxTemp</th>\n",
       "      <th>Rainfall</th>\n",
       "      <th>Evaporation</th>\n",
       "      <th>Sunshine</th>\n",
       "      <th>WindGustSpeed</th>\n",
       "      <th>WindSpeed9am</th>\n",
       "      <th>WindSpeed3pm</th>\n",
       "      <th>Humidity9am</th>\n",
       "      <th>Humidity3pm</th>\n",
       "      <th>Pressure9am</th>\n",
       "      <th>Pressure3pm</th>\n",
       "      <th>Cloud9am</th>\n",
       "      <th>Cloud3pm</th>\n",
       "      <th>Temp9am</th>\n",
       "      <th>Temp3pm</th>\n",
       "      <th>RainTomorrow</th>\n",
       "    </tr>\n",
       "  </thead>\n",
       "  <tbody>\n",
       "    <tr>\n",
       "      <td>5939</td>\n",
       "      <td>17.9</td>\n",
       "      <td>35.2</td>\n",
       "      <td>0.0</td>\n",
       "      <td>12.0</td>\n",
       "      <td>12.3</td>\n",
       "      <td>48.0</td>\n",
       "      <td>6.0</td>\n",
       "      <td>20.0</td>\n",
       "      <td>20.0</td>\n",
       "      <td>13.0</td>\n",
       "      <td>1006.3</td>\n",
       "      <td>1004.4</td>\n",
       "      <td>2.0</td>\n",
       "      <td>5.0</td>\n",
       "      <td>26.6</td>\n",
       "      <td>33.4</td>\n",
       "      <td>0</td>\n",
       "    </tr>\n",
       "    <tr>\n",
       "      <td>5940</td>\n",
       "      <td>18.4</td>\n",
       "      <td>28.9</td>\n",
       "      <td>0.0</td>\n",
       "      <td>14.8</td>\n",
       "      <td>13.0</td>\n",
       "      <td>37.0</td>\n",
       "      <td>19.0</td>\n",
       "      <td>19.0</td>\n",
       "      <td>30.0</td>\n",
       "      <td>8.0</td>\n",
       "      <td>1012.9</td>\n",
       "      <td>1012.1</td>\n",
       "      <td>1.0</td>\n",
       "      <td>1.0</td>\n",
       "      <td>20.3</td>\n",
       "      <td>27.0</td>\n",
       "      <td>0</td>\n",
       "    </tr>\n",
       "    <tr>\n",
       "      <td>5942</td>\n",
       "      <td>19.4</td>\n",
       "      <td>37.6</td>\n",
       "      <td>0.0</td>\n",
       "      <td>10.8</td>\n",
       "      <td>10.6</td>\n",
       "      <td>46.0</td>\n",
       "      <td>30.0</td>\n",
       "      <td>15.0</td>\n",
       "      <td>42.0</td>\n",
       "      <td>22.0</td>\n",
       "      <td>1012.3</td>\n",
       "      <td>1009.2</td>\n",
       "      <td>1.0</td>\n",
       "      <td>6.0</td>\n",
       "      <td>28.7</td>\n",
       "      <td>34.9</td>\n",
       "      <td>0</td>\n",
       "    </tr>\n",
       "    <tr>\n",
       "      <td>5943</td>\n",
       "      <td>21.9</td>\n",
       "      <td>38.4</td>\n",
       "      <td>0.0</td>\n",
       "      <td>11.4</td>\n",
       "      <td>12.2</td>\n",
       "      <td>31.0</td>\n",
       "      <td>6.0</td>\n",
       "      <td>6.0</td>\n",
       "      <td>37.0</td>\n",
       "      <td>22.0</td>\n",
       "      <td>1012.7</td>\n",
       "      <td>1009.1</td>\n",
       "      <td>1.0</td>\n",
       "      <td>5.0</td>\n",
       "      <td>29.1</td>\n",
       "      <td>35.6</td>\n",
       "      <td>0</td>\n",
       "    </tr>\n",
       "    <tr>\n",
       "      <td>5944</td>\n",
       "      <td>24.2</td>\n",
       "      <td>41.0</td>\n",
       "      <td>0.0</td>\n",
       "      <td>11.2</td>\n",
       "      <td>8.4</td>\n",
       "      <td>35.0</td>\n",
       "      <td>17.0</td>\n",
       "      <td>13.0</td>\n",
       "      <td>19.0</td>\n",
       "      <td>15.0</td>\n",
       "      <td>1010.7</td>\n",
       "      <td>1007.4</td>\n",
       "      <td>1.0</td>\n",
       "      <td>6.0</td>\n",
       "      <td>33.6</td>\n",
       "      <td>37.6</td>\n",
       "      <td>0</td>\n",
       "    </tr>\n",
       "    <tr>\n",
       "      <td>...</td>\n",
       "      <td>...</td>\n",
       "      <td>...</td>\n",
       "      <td>...</td>\n",
       "      <td>...</td>\n",
       "      <td>...</td>\n",
       "      <td>...</td>\n",
       "      <td>...</td>\n",
       "      <td>...</td>\n",
       "      <td>...</td>\n",
       "      <td>...</td>\n",
       "      <td>...</td>\n",
       "      <td>...</td>\n",
       "      <td>...</td>\n",
       "      <td>...</td>\n",
       "      <td>...</td>\n",
       "      <td>...</td>\n",
       "      <td>...</td>\n",
       "    </tr>\n",
       "    <tr>\n",
       "      <td>139108</td>\n",
       "      <td>19.3</td>\n",
       "      <td>33.4</td>\n",
       "      <td>0.0</td>\n",
       "      <td>6.0</td>\n",
       "      <td>11.0</td>\n",
       "      <td>35.0</td>\n",
       "      <td>9.0</td>\n",
       "      <td>20.0</td>\n",
       "      <td>63.0</td>\n",
       "      <td>32.0</td>\n",
       "      <td>1013.9</td>\n",
       "      <td>1010.5</td>\n",
       "      <td>0.0</td>\n",
       "      <td>1.0</td>\n",
       "      <td>24.5</td>\n",
       "      <td>32.3</td>\n",
       "      <td>0</td>\n",
       "    </tr>\n",
       "    <tr>\n",
       "      <td>139109</td>\n",
       "      <td>21.2</td>\n",
       "      <td>32.6</td>\n",
       "      <td>0.0</td>\n",
       "      <td>7.6</td>\n",
       "      <td>8.6</td>\n",
       "      <td>37.0</td>\n",
       "      <td>13.0</td>\n",
       "      <td>11.0</td>\n",
       "      <td>56.0</td>\n",
       "      <td>28.0</td>\n",
       "      <td>1014.6</td>\n",
       "      <td>1011.2</td>\n",
       "      <td>7.0</td>\n",
       "      <td>0.0</td>\n",
       "      <td>24.8</td>\n",
       "      <td>32.0</td>\n",
       "      <td>0</td>\n",
       "    </tr>\n",
       "    <tr>\n",
       "      <td>139110</td>\n",
       "      <td>20.7</td>\n",
       "      <td>32.8</td>\n",
       "      <td>0.0</td>\n",
       "      <td>5.6</td>\n",
       "      <td>11.0</td>\n",
       "      <td>33.0</td>\n",
       "      <td>17.0</td>\n",
       "      <td>11.0</td>\n",
       "      <td>46.0</td>\n",
       "      <td>23.0</td>\n",
       "      <td>1015.3</td>\n",
       "      <td>1011.8</td>\n",
       "      <td>0.0</td>\n",
       "      <td>0.0</td>\n",
       "      <td>24.8</td>\n",
       "      <td>32.1</td>\n",
       "      <td>0</td>\n",
       "    </tr>\n",
       "    <tr>\n",
       "      <td>139111</td>\n",
       "      <td>19.5</td>\n",
       "      <td>31.8</td>\n",
       "      <td>0.0</td>\n",
       "      <td>6.2</td>\n",
       "      <td>10.6</td>\n",
       "      <td>26.0</td>\n",
       "      <td>9.0</td>\n",
       "      <td>17.0</td>\n",
       "      <td>62.0</td>\n",
       "      <td>58.0</td>\n",
       "      <td>1014.9</td>\n",
       "      <td>1010.7</td>\n",
       "      <td>1.0</td>\n",
       "      <td>1.0</td>\n",
       "      <td>24.8</td>\n",
       "      <td>29.2</td>\n",
       "      <td>0</td>\n",
       "    </tr>\n",
       "    <tr>\n",
       "      <td>139112</td>\n",
       "      <td>20.2</td>\n",
       "      <td>31.7</td>\n",
       "      <td>0.0</td>\n",
       "      <td>5.6</td>\n",
       "      <td>10.7</td>\n",
       "      <td>30.0</td>\n",
       "      <td>15.0</td>\n",
       "      <td>7.0</td>\n",
       "      <td>73.0</td>\n",
       "      <td>32.0</td>\n",
       "      <td>1013.9</td>\n",
       "      <td>1009.7</td>\n",
       "      <td>6.0</td>\n",
       "      <td>5.0</td>\n",
       "      <td>25.4</td>\n",
       "      <td>31.0</td>\n",
       "      <td>0</td>\n",
       "    </tr>\n",
       "  </tbody>\n",
       "</table>\n",
       "<p>58090 rows × 17 columns</p>\n",
       "</div>"
      ],
      "text/plain": [
       "        MinTemp  MaxTemp  Rainfall  Evaporation  Sunshine  WindGustSpeed  \\\n",
       "5939       17.9     35.2       0.0         12.0      12.3           48.0   \n",
       "5940       18.4     28.9       0.0         14.8      13.0           37.0   \n",
       "5942       19.4     37.6       0.0         10.8      10.6           46.0   \n",
       "5943       21.9     38.4       0.0         11.4      12.2           31.0   \n",
       "5944       24.2     41.0       0.0         11.2       8.4           35.0   \n",
       "...         ...      ...       ...          ...       ...            ...   \n",
       "139108     19.3     33.4       0.0          6.0      11.0           35.0   \n",
       "139109     21.2     32.6       0.0          7.6       8.6           37.0   \n",
       "139110     20.7     32.8       0.0          5.6      11.0           33.0   \n",
       "139111     19.5     31.8       0.0          6.2      10.6           26.0   \n",
       "139112     20.2     31.7       0.0          5.6      10.7           30.0   \n",
       "\n",
       "        WindSpeed9am  WindSpeed3pm  Humidity9am  Humidity3pm  Pressure9am  \\\n",
       "5939             6.0          20.0         20.0         13.0       1006.3   \n",
       "5940            19.0          19.0         30.0          8.0       1012.9   \n",
       "5942            30.0          15.0         42.0         22.0       1012.3   \n",
       "5943             6.0           6.0         37.0         22.0       1012.7   \n",
       "5944            17.0          13.0         19.0         15.0       1010.7   \n",
       "...              ...           ...          ...          ...          ...   \n",
       "139108           9.0          20.0         63.0         32.0       1013.9   \n",
       "139109          13.0          11.0         56.0         28.0       1014.6   \n",
       "139110          17.0          11.0         46.0         23.0       1015.3   \n",
       "139111           9.0          17.0         62.0         58.0       1014.9   \n",
       "139112          15.0           7.0         73.0         32.0       1013.9   \n",
       "\n",
       "        Pressure3pm  Cloud9am  Cloud3pm  Temp9am  Temp3pm  RainTomorrow  \n",
       "5939         1004.4       2.0       5.0     26.6     33.4             0  \n",
       "5940         1012.1       1.0       1.0     20.3     27.0             0  \n",
       "5942         1009.2       1.0       6.0     28.7     34.9             0  \n",
       "5943         1009.1       1.0       5.0     29.1     35.6             0  \n",
       "5944         1007.4       1.0       6.0     33.6     37.6             0  \n",
       "...             ...       ...       ...      ...      ...           ...  \n",
       "139108       1010.5       0.0       1.0     24.5     32.3             0  \n",
       "139109       1011.2       7.0       0.0     24.8     32.0             0  \n",
       "139110       1011.8       0.0       0.0     24.8     32.1             0  \n",
       "139111       1010.7       1.0       1.0     24.8     29.2             0  \n",
       "139112       1009.7       6.0       5.0     25.4     31.0             0  \n",
       "\n",
       "[58090 rows x 17 columns]"
      ]
     },
     "execution_count": 11,
     "metadata": {},
     "output_type": "execute_result"
    }
   ],
   "source": [
    "datacleanall"
   ]
  },
  {
   "cell_type": "markdown",
   "metadata": {},
   "source": [
    "## Define training and test set\n",
    "### (first implementaiton will be with all features) \n"
   ]
  },
  {
   "cell_type": "markdown",
   "metadata": {},
   "source": [
    "### Sizes of training and test sets for full and reduced data sets"
   ]
  },
  {
   "cell_type": "code",
   "execution_count": 12,
   "metadata": {},
   "outputs": [
    {
     "data": {
      "text/plain": [
       "16"
      ]
     },
     "execution_count": 12,
     "metadata": {},
     "output_type": "execute_result"
    }
   ],
   "source": [
    "data_nums = datacleanall.to_numpy()\n",
    "m = data_nums.shape[0]     # number of data points\n",
    "n = data_nums.shape[1]-1     # number of features\n",
    "m_train = int(0.8 * m)\n",
    "m_test = int(m- m_train)\n",
    "data_nums = data_nums.astype(float)\n",
    "n"
   ]
  },
  {
   "cell_type": "code",
   "execution_count": 13,
   "metadata": {},
   "outputs": [],
   "source": [
    "def data_and_dimensions(data):\n",
    "    datause = data\n",
    "    data_nums_red = datause.to_numpy()\n",
    "    m_red = data_nums_red.shape[0]     # number of data points\n",
    "    n_red = data_nums_red.shape[1]-1   # number of features\n",
    "    m_train_red = int(0.8 * m_red)     # number of data points in training set\n",
    "    m_test_red = int(m_red- m_train_red) # number of data points in test set\n",
    "    data_nums_red = data_nums_red.astype(float)\n",
    "     \n",
    "    dimensions = {'m': m_red,'n': n_red, 'm_train': m_train_red, 'm_test': m_test_red}\n",
    "    return data_nums_red, dimensions"
   ]
  },
  {
   "cell_type": "markdown",
   "metadata": {},
   "source": [
    "### Randomize order of rows to eliminated possible bias due to ordered date of measuremnt when diving data into training and test sets."
   ]
  },
  {
   "cell_type": "code",
   "execution_count": 14,
   "metadata": {},
   "outputs": [],
   "source": [
    "data_nums_shuff = data_nums\n",
    "np.random.shuffle(data_nums_shuff)"
   ]
  },
  {
   "cell_type": "markdown",
   "metadata": {},
   "source": [
    "### Define training set"
   ]
  },
  {
   "cell_type": "code",
   "execution_count": 15,
   "metadata": {},
   "outputs": [
    {
     "data": {
      "text/plain": [
       "((46472, 16), (46472, 1))"
      ]
     },
     "execution_count": 15,
     "metadata": {},
     "output_type": "execute_result"
    }
   ],
   "source": [
    "X_train = data_nums_shuff[0:m_train , 0:n]\n",
    "Y_train = data_nums_shuff[0:m_train,-1].reshape((m_train,1))\n",
    "X_train.shape, Y_train.shape"
   ]
  },
  {
   "cell_type": "markdown",
   "metadata": {},
   "source": [
    "### Define test set"
   ]
  },
  {
   "cell_type": "code",
   "execution_count": 16,
   "metadata": {},
   "outputs": [
    {
     "data": {
      "text/plain": [
       "((11618, 16), (11618, 1))"
      ]
     },
     "execution_count": 16,
     "metadata": {},
     "output_type": "execute_result"
    }
   ],
   "source": [
    "X_test = data_nums_shuff[0:m_test , 0:n]\n",
    "Y_test = data_nums_shuff[0:m_test,-1].reshape((m_test,1))\n",
    "X_test.shape, Y_test.shape"
   ]
  },
  {
   "cell_type": "markdown",
   "metadata": {},
   "source": [
    "### Rescaling features"
   ]
  },
  {
   "cell_type": "code",
   "execution_count": 17,
   "metadata": {},
   "outputs": [],
   "source": [
    "def rescale(X_train, X_test, Y_train, Y_test, n, m_train, m_test): \n",
    "    mean_X_train = (np.sum(X_train, axis=0)/(m_train)).reshape((1,n))\n",
    "    mean_X_test = (np.sum(X_test, axis=0)/(m_test)).reshape((1,n))\n",
    "\n",
    "    max_train = np.amax(X_train, axis=0)\n",
    "    min_train = np.amin(X_train, axis=0)\n",
    "\n",
    "    max_test = np.amax(X_test, axis=0)\n",
    "    min_test = np.amin(X_test, axis=0)\n",
    "\n",
    "    maxmin_train = (max_train - min_train).reshape((1,n))\n",
    "    maxmin_test = (max_test - min_test).reshape((1,n))\n",
    "\n",
    "    X_trainR = (X_train - mean_X_train)/maxmin_train\n",
    "    X_testR = (X_test - mean_X_test)/maxmin_test\n",
    "\n",
    "    X_trainR = X_trainR.astype(float) \n",
    "    X_testR = X_testR.astype(float) \n",
    "    Y_train = Y_train.astype(float)\n",
    "    Y_test = Y_test.astype(float)\n",
    "    return X_trainR, X_testR, Y_train, Y_test"
   ]
  },
  {
   "cell_type": "code",
   "execution_count": 18,
   "metadata": {},
   "outputs": [],
   "source": [
    "X_trainR, X_testR, Y_train, Y_test = rescale(X_train, X_test, Y_train, Y_test, n, m_train, m_test)"
   ]
  },
  {
   "cell_type": "markdown",
   "metadata": {},
   "source": [
    "## Defining Functions for Logistic Regression and Gradient Descent "
   ]
  },
  {
   "cell_type": "markdown",
   "metadata": {},
   "source": [
    "### Sigmoid function"
   ]
  },
  {
   "cell_type": "code",
   "execution_count": 19,
   "metadata": {},
   "outputs": [],
   "source": [
    "def sigmoid(z):\n",
    "    s = 1/(1+np.exp(-z))\n",
    "    return s\n"
   ]
  },
  {
   "cell_type": "markdown",
   "metadata": {},
   "source": [
    "### Initial parameter vector"
   ]
  },
  {
   "cell_type": "code",
   "execution_count": 20,
   "metadata": {},
   "outputs": [],
   "source": [
    "def initial_theta(n):\n",
    "    thetax = np.zeros((1,n))\n",
    "    theta0=0\n",
    "    return theta0, thetax\n"
   ]
  },
  {
   "cell_type": "markdown",
   "metadata": {},
   "source": [
    "### Cost function"
   ]
  },
  {
   "cell_type": "code",
   "execution_count": 21,
   "metadata": {},
   "outputs": [],
   "source": [
    "def cost(X, Y, theta0, thetax, m, lam):\n",
    "    sig = sigmoid(theta0 + np.dot(X, thetax.T)).reshape((m,1))\n",
    "    cost = - np.sum(Y*np.log(sig) + (1.0 - Y) * np.log(1.0- sig))/m\n",
    "    reg = (lam/ (2.0 * m)) * np.sum(thetax[:]**2)\n",
    "    return cost +reg"
   ]
  },
  {
   "cell_type": "markdown",
   "metadata": {},
   "source": [
    "### Derivative of Cost function"
   ]
  },
  {
   "cell_type": "code",
   "execution_count": 22,
   "metadata": {},
   "outputs": [],
   "source": [
    "def cost_grad(X, Y, theta0, thetax, m, lam):\n",
    "    sig = sigmoid(theta0 + np.dot(X, thetax.T)).reshape((m,1))\n",
    "    grad0 = np.sum((sig - Y), axis=0)/m\n",
    "    gradx = np.dot(X.T, sig - Y)/m  + lam * thetax.T/m\n",
    "    return grad0, gradx"
   ]
  },
  {
   "cell_type": "markdown",
   "metadata": {},
   "source": [
    "### Prediction function which compares resulting prediction (will or will not rain) with actual outcome"
   ]
  },
  {
   "cell_type": "code",
   "execution_count": 23,
   "metadata": {},
   "outputs": [],
   "source": [
    "def predict(theta0, thetax, X, m):   \n",
    "    Y_prediction = np.ones((m,1)) \n",
    "    Y_predic_sig = np.ones((m,1)) \n",
    "    sig = sigmoid(theta0 + np.dot(X, thetax.T)).reshape((m,1))  \n",
    "    for i in range(m):      \n",
    "        Y_predic_sig[i,:] = sig[i,0]\n",
    "        Y_prediction[i,:] = [1 if sig[i,0]> 0.5 else 0]\n",
    "    assert(Y_prediction.shape == (m,1))\n",
    "    return Y_prediction, Y_predic_sig\n"
   ]
  },
  {
   "cell_type": "markdown",
   "metadata": {},
   "source": [
    "### Gradient Descent"
   ]
  },
  {
   "cell_type": "code",
   "execution_count": 24,
   "metadata": {},
   "outputs": [],
   "source": [
    "def gradD(X, Y, m, n, lam, alpha, iterations):\n",
    "    cost_history = np.zeros(iterations)\n",
    "    theta_history = np.zeros((iterations, n+1))\n",
    "    np.shape(theta_history[1,1:n+1])\n",
    "    theta0, thetax = initial_theta(n)\n",
    "    for it in range(iterations):\n",
    "        theta0n = theta0 -  alpha * cost_grad(X, Y, theta0, thetax, m, lam)[0].T\n",
    "        thetaxn = thetax -  alpha * cost_grad(X, Y, theta0, thetax, m, lam)[1].T\n",
    "        theta_history[it,0]=theta0n\n",
    "        theta_history[it,1:n+1]=thetaxn\n",
    "        cost_history[it]= cost(X, Y,  theta0n, thetaxn, m, lam)\n",
    "        theta0 = theta0n\n",
    "        thetax = thetaxn\n",
    "        #print(it,cost(X, Y,  theta0n, thetaxn, m, lam))\n",
    "    theta = np.insert(thetax, 0, theta0)\n",
    "    return theta, theta_history, cost_history "
   ]
  },
  {
   "cell_type": "markdown",
   "metadata": {},
   "source": [
    "## Running Gradient Descent "
   ]
  },
  {
   "cell_type": "markdown",
   "metadata": {},
   "source": [
    "### All features result"
   ]
  },
  {
   "cell_type": "code",
   "execution_count": 25,
   "metadata": {},
   "outputs": [],
   "source": [
    "theta_result, theta_hist, cost_hist = gradD(X_trainR, Y_train, m_train, n, 0, 0.1, 6000)"
   ]
  },
  {
   "cell_type": "code",
   "execution_count": 26,
   "metadata": {},
   "outputs": [
    {
     "data": {
      "text/plain": [
       "<function matplotlib.pyplot.show(*args, **kw)>"
      ]
     },
     "execution_count": 26,
     "metadata": {},
     "output_type": "execute_result"
    },
    {
     "data": {
      "image/png": "[encoded data removed]",
      "text/plain": [
       "<Figure size 432x288 with 1 Axes>"
      ]
     },
     "metadata": {
      "needs_background": "light"
     },
     "output_type": "display_data"
    }
   ],
   "source": [
    "plt.title('Cost Function History')\n",
    "plt.plot(cost_hist)\n",
    "plt.xlabel('iterarions')\n",
    "plt.ylabel('cost')\n",
    "plt.show"
   ]
  },
  {
   "cell_type": "markdown",
   "metadata": {},
   "source": [
    "## Accuracy of predition in persentage "
   ]
  },
  {
   "cell_type": "code",
   "execution_count": 27,
   "metadata": {},
   "outputs": [],
   "source": [
    "def accuracy(theta0r, thetaxr, X, Y, m):\n",
    "    Y_predict = predict(theta0r, thetaxr, X, m)[0]\n",
    "    acc = 100 - np.mean(np.abs(Y_predict - Y)) * 100\n",
    "    return acc"
   ]
  },
  {
   "cell_type": "markdown",
   "metadata": {},
   "source": [
    "### Accuracy of all feature training set preditions "
   ]
  },
  {
   "cell_type": "code",
   "execution_count": 28,
   "metadata": {},
   "outputs": [
    {
     "data": {
      "text/plain": [
       "84.57565846100877"
      ]
     },
     "execution_count": 28,
     "metadata": {},
     "output_type": "execute_result"
    }
   ],
   "source": [
    "accuracy(theta_result[0], theta_result[1:], X_trainR, Y_train, m_train)"
   ]
  },
  {
   "cell_type": "markdown",
   "metadata": {},
   "source": [
    "### Accuracy of all feature test set preditions "
   ]
  },
  {
   "cell_type": "code",
   "execution_count": 29,
   "metadata": {},
   "outputs": [
    {
     "data": {
      "text/plain": [
       "84.55844379411258"
      ]
     },
     "execution_count": 29,
     "metadata": {},
     "output_type": "execute_result"
    }
   ],
   "source": [
    "accuracy(theta_result[0], theta_result[1:], X_testR, Y_test, m_test)"
   ]
  },
  {
   "cell_type": "code",
   "execution_count": 31,
   "metadata": {},
   "outputs": [
    {
     "data": {
      "text/plain": [
       "0.34742938263665973"
      ]
     },
     "execution_count": 31,
     "metadata": {},
     "output_type": "execute_result"
    }
   ],
   "source": [
    "cost(X_testR, Y_test, theta_result[0], theta_result[1:], m_test, 1)"
   ]
  },
  {
   "cell_type": "code",
   "execution_count": 32,
   "metadata": {},
   "outputs": [
    {
     "data": {
      "text/plain": [
       "0.34877469034279457"
      ]
     },
     "execution_count": 32,
     "metadata": {},
     "output_type": "execute_result"
    }
   ],
   "source": [
    "cost(X_trainR, Y_train, theta_result[0], theta_result[1:], m_train, 1)"
   ]
  },
  {
   "cell_type": "markdown",
   "metadata": {},
   "source": [
    "## Confusion Matrix "
   ]
  },
  {
   "cell_type": "code",
   "execution_count": 33,
   "metadata": {},
   "outputs": [],
   "source": [
    "def confusion(theta0r, thetaxr, X, Y, m):\n",
    "    Y_predict = predict(theta0r, thetaxr, X, m)[0]\n",
    "    TP, TN, FP, FN = 0,0,0,0\n",
    "    for i in range(0,m):\n",
    "        if Y_predict[i]==1 and Y[i]==1: \n",
    "            TP += 1\n",
    "        if  Y_predict[i]==0 and Y[i]==1: \n",
    "            TN += 1\n",
    "        if Y_predict[i]==1 and Y[i]==0: \n",
    "            FP += 1\n",
    "        if  Y_predict[i]==0 and Y[i]==0: \n",
    "            FN += 1\n",
    "        sizes = [TP, TN, FP, FN]\n",
    "    return sizes\n",
    "\n",
    "#confusion(theta_result_red[0], theta_result_red[1:], X_trainR_red, Y_train_red, m_train_red)"
   ]
  },
  {
   "cell_type": "code",
   "execution_count": 34,
   "metadata": {},
   "outputs": [
    {
     "data": {
      "image/png": "[encoded data removed]",
      "text/plain": [
       "<Figure size 432x288 with 1 Axes>"
      ]
     },
     "metadata": {},
     "output_type": "display_data"
    }
   ],
   "source": [
    "labels = ['TP', 'TN', 'FP', 'FN']\n",
    "sizes = confusion(theta_result[0], theta_result[1:], X_trainR, Y_train, m_train)\n",
    "    #colors\n",
    "colors = ['#b8ffeb','#c1c6fc','#bcf5a6','#ffcc99']\n",
    " \n",
    "fig1, ax1 = plt.subplots()\n",
    "ax1.pie(sizes, colors = colors, labels=labels, autopct='%1.1f%%', startangle=90)\n",
    "    #draw circle\n",
    "centre_circle = plt.Circle((0,0),0.80,fc='white')\n",
    "fig = plt.gcf()\n",
    "ax1.axis('equal')  \n",
    "plt.tight_layout()\n",
    "plt.title('Confusion Matrix')\n",
    "plt.show()"
   ]
  },
  {
   "cell_type": "markdown",
   "metadata": {},
   "source": [
    "# Will it Rain?\n",
    "\n",
    "## Predictor of Rain or Not Rain given set of meteorilogical measurements "
   ]
  },
  {
   "cell_type": "code",
   "execution_count": 35,
   "metadata": {},
   "outputs": [],
   "source": [
    "x = np.array([X_testR[450,:]]).reshape(1,n)   # example of set of measurements to enter"
   ]
  },
  {
   "cell_type": "code",
   "execution_count": 36,
   "metadata": {},
   "outputs": [
    {
     "data": {
      "text/plain": [
       "('it will not rain', 'sigmoid: 0.05030790422054709')"
      ]
     },
     "execution_count": 36,
     "metadata": {},
     "output_type": "execute_result"
    }
   ],
   "source": [
    "def will_it_rain(x, theta_result):\n",
    "    sig = sigmoid(theta_result[0] + np.dot(x, theta_result[1:].T))\n",
    "    if sig > 0.5:\n",
    "        answer = 'it will rain'\n",
    "    else:\n",
    "        answer = 'it will not rain'\n",
    "    return answer, 'sigmoid: ' + str(sig[0])\n",
    "will_it_rain(x, theta_result)"
   ]
  },
  {
   "cell_type": "markdown",
   "metadata": {},
   "source": [
    "# Total Model: Will it Rain? \n",
    "\n",
    "### How it works:\n",
    "\n",
    "- Choose feature to use and input feature keys from list below into list: 'input_features'. This must also include 'RainTomorrow' key. \n",
    "- Input measurements of these featuers in the same order as the key names in 'input_features' into list: 'value_input'.\n",
    "- Input full meteorological data set. \n",
    "\n",
    "Features Options: \n",
    "\n",
    "MinTemp           \n",
    "MaxTemp            \n",
    "Rainfall          \n",
    "Evaporation      \n",
    "Sunshine            \n",
    "WindGustSpeed           \n",
    "WindSpeed9am      \n",
    "WindSpeed3pm      \n",
    "Humidity9am       \n",
    "Humidity3pm       \n",
    "Pressure9am      \n",
    "Pressure3pm      \n",
    "Cloud9am         \n",
    "Cloud3pm         \n",
    "Temp9am            \n",
    "Temp3pm      \n",
    "\n",
    "### When it runs it will:\n",
    "\n",
    "- Clean the selected feature columns of NaN values.\n",
    "- Calculate number of data points, and size of test and training sets.\n",
    "- Shuffle the data to eliminate original time ordering and divide into training and test sets.\n",
    "- Rescale all features. \n",
    "- Run gradient descent to train logistic regression algorithm.\n",
    "- Plot cost function history to ensure convergence.\n",
    "\n",
    "### It will output:\n",
    "\n",
    "- Accuracy of training and test set predictions.\n",
    "- Confusion matrix with percentages of True Positive, True Negative, False Positive and False Negative preditions.\n",
    "- Predition of 'it will rain' or 'it will not rain' for given input measurements in list 'value_input' (with sigmoid value, i.e. where along the sigmoid does this prediction fall). "
   ]
  },
  {
   "cell_type": "code",
   "execution_count": 37,
   "metadata": {},
   "outputs": [
    {
     "data": {
      "image/png": "[encoded data removed]",
      "text/plain": [
       "<Figure size 432x288 with 1 Axes>"
      ]
     },
     "metadata": {
      "needs_background": "light"
     },
     "output_type": "display_data"
    },
    {
     "data": {
      "image/png": "[encoded data removed]",
      "text/plain": [
       "<Figure size 432x288 with 1 Axes>"
      ]
     },
     "metadata": {},
     "output_type": "display_data"
    },
    {
     "data": {
      "text/plain": [
       "(('it will rain', 'sigmoid: 0.5277069664076528'),\n",
       " 'Train Accuracy 83.3%, Test Accuracy 83.3%')"
      ]
     },
     "execution_count": 37,
     "metadata": {},
     "output_type": "execute_result"
    }
   ],
   "source": [
    "input_features = ['MaxTemp', 'MinTemp','Humidity3pm','Pressure9am','RainTomorrow']\n",
    "value_input = np.array([ 0.0832136 ,  0.0088566 ,  0.22008363, -0.16806969])  # test example of values (rescaled) for inputed features \n",
    "\n",
    "def to_rain_or_not_to_rain(input_features, value_input, data, lam=0, alpha = 0.1, iterations = 6000):\n",
    "    \n",
    "    ## Define and clean data ## \n",
    "    \n",
    "    data_include  = data[input_features]\n",
    "    \n",
    "    clean_include = data_include.notna()\n",
    "    data_include_clean = (data_include.loc[clean_include.prod(axis=1)==1])    \n",
    "    data_use = data_and_dimensions(data_include_clean)[0]\n",
    "    \n",
    "    ## Sizes of data sets and number of features ## \n",
    "    \n",
    "    m = data_and_dimensions(data_include_clean)[1]['m']\n",
    "    n = data_and_dimensions(data_include_clean)[1]['n']\n",
    "    m_train = data_and_dimensions(data_include_clean)[1]['m_train']\n",
    "    m_test = data_and_dimensions(data_include_clean)[1]['m_test']\n",
    "    \n",
    "    ## Shuffling data out of time order ## \n",
    "    \n",
    "    data_shuff = data_use\n",
    "    np.random.shuffle(data_shuff)\n",
    "    \n",
    "    ## Defining training and test sets ## \n",
    "    \n",
    "    X_train = data_shuff[0:m_train , 0:n]\n",
    "    Y_train = data_shuff[0:m_train,-1].reshape((m_train,1))\n",
    "  \n",
    "    X_test = data_shuff[0:m_test , 0:n]\n",
    "    Y_test = data_shuff[0:m_test,-1].reshape((m_test,1))\n",
    "\n",
    "    \n",
    "    ## Rescaling features ##\n",
    "    \n",
    "    X_trainR, X_testR, Y_train, Y_test = rescale(X_train, X_test, Y_train, Y_test, n, m_train, m_test)\n",
    "    \n",
    "    ##### Running Gradient Descent ########\n",
    "    \n",
    "    theta_result, theta_hist, cost_hist = gradD(X_trainR, Y_train, m_train, n, lam , alpha , iterations)\n",
    "    \n",
    "    ##### Cost Function History Plot ########\n",
    "    \n",
    "    plt.title('Cost Function History')\n",
    "    plt.plot(cost_hist)\n",
    "    plt.xlabel('iterarions')\n",
    "    plt.ylabel('cost')\n",
    "    plt.show()\n",
    "    \n",
    "    ##### Accuracy #####\n",
    "    \n",
    "    acc_train = accuracy(theta_result[0], theta_result[1:], X_trainR, Y_train, m_train)\n",
    "    acc_test = accuracy(theta_result[0], theta_result[1:], X_testR, Y_test, m_test)\n",
    "    \n",
    "    \n",
    "    ##### Confusion Matrix Plot ##########\n",
    "    labels = ['TP', 'TN', 'FP', 'FN']\n",
    "    sizes = confusion(theta_result[0], theta_result[1:], X_trainR, Y_train, m_train)\n",
    "    #colors\n",
    "    colors = ['#b8ffeb','#c1c6fc','#bcf5a6','#ffcc99']\n",
    " \n",
    "    fig1, ax1 = plt.subplots()\n",
    "    ax1.pie(sizes, colors = colors, labels=labels, autopct='%1.1f%%', startangle=90)\n",
    "    #draw circle\n",
    "    centre_circle = plt.Circle((0,0),0.80,fc='white')\n",
    "    fig = plt.gcf()\n",
    "    ax1.axis('equal')  \n",
    "    plt.tight_layout()\n",
    "    plt.title('Confusion Matrix')\n",
    "    plt.show()\n",
    "    \n",
    "    value_input = value_input.reshape(1,n)\n",
    "    willitrain = will_it_rain(value_input, theta_result)\n",
    "    textstr = f'Train Accuracy {acc_train:0.1f}%, Test Accuracy {acc_test:0.1f}%'\n",
    "    \n",
    "    return willitrain, textstr\n",
    "\n",
    "to_rain_or_not_to_rain(input_features, value_input, data)\n",
    "    \n",
    "    "
   ]
  },
  {
   "cell_type": "code",
   "execution_count": null,
   "metadata": {},
   "outputs": [],
   "source": []
  }
 ],
 "metadata": {
  "kernelspec": {
   "display_name": "Python 3",
   "language": "python",
   "name": "python3"
  },
  "language_info": {
   "codemirror_mode": {
    "name": "ipython",
    "version": 3
   },
   "file_extension": ".py",
   "mimetype": "text/x-python",
   "name": "python",
   "nbconvert_exporter": "python",
   "pygments_lexer": "ipython3",
   "version": "3.7.4"
  }
 },
 "nbformat": 4,
 "nbformat_minor": 2
}
